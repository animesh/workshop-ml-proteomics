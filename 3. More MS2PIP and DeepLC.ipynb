{
 "cells": [
  {
   "cell_type": "markdown",
   "metadata": {},
   "source": [
    "# 2.4 Playground - design your own peptides and modifications and predict their retention time (optional for a later time for the real enthusiasts)"
   ]
  },
  {
   "cell_type": "markdown",
   "metadata": {},
   "source": [
    "## 2.4.1 Make predictions for your own peptide and modifications combos"
   ]
  },
  {
   "cell_type": "markdown",
   "metadata": {},
   "source": [
    "Provide the data for peptides you want to predict:"
   ]
  },
  {
   "cell_type": "code",
   "execution_count": null,
   "metadata": {},
   "outputs": [],
   "source": [
    "#IIVINTPNNPIGK\n",
    "dict_effect_aa = {\n",
    "    \"seq\" : [\"IIVINKPNNPIGK\", \"IIVINTPNNPIGK\", \"IIVINAPNNPIGK\", \"IIVINWPNNPIGK\"],\n",
    "    \"modifications\" : [\"\",\"\",\"\",\"\"],\n",
    "    \"tr\" : [0,1,2,3]\n",
    "}\n",
    "\n",
    "df_effect_aa = pd.DataFrame(dict_effect_aa)"
   ]
  },
  {
   "cell_type": "code",
   "execution_count": null,
   "metadata": {
    "scrolled": false
   },
   "outputs": [],
   "source": [
    "preds = dlc.make_preds(seq_df=df_effect_aa)"
   ]
  },
  {
   "cell_type": "markdown",
   "metadata": {},
   "source": [
    "Lets have a look at their predictions:"
   ]
  },
  {
   "cell_type": "code",
   "execution_count": null,
   "metadata": {},
   "outputs": [],
   "source": [
    "plt.scatter(df_effect_aa.index,preds)\n",
    "plt.xticks(df_effect_aa.index,df_effect_aa[\"seq\"])\n",
    "plt.ylabel(\"Predicted retention time (s)\")\n",
    "plt.show()"
   ]
  },
  {
   "cell_type": "markdown",
   "metadata": {},
   "source": [
    "Provide the data for peptides+modifications you want to predict:"
   ]
  },
  {
   "cell_type": "code",
   "execution_count": null,
   "metadata": {},
   "outputs": [],
   "source": [
    "#IIVINTPNNPIGK\n",
    "dict_effect_aa = {\n",
    "    \"seq\" : [\"IIVINCPNNPIGK\", \"IIVINCPNNPIGK\", \"IIVINQPNNPIGK\", \"IIVINQPNNPIGK\", \"IIVINMPNNPIGK\", \"IIVINMPNNPIGK\"],\n",
    "    \"modifications\" : [\"\",\"6|carbamidomethyl\",\"\",\"6|Deamidated\",\"\",\"6|Formyl\"],\n",
    "    \"tr\" : [0,1,2,3,4,5]\n",
    "}\n",
    "\n",
    "df_effect_aa = pd.DataFrame(dict_effect_aa)"
   ]
  },
  {
   "cell_type": "code",
   "execution_count": null,
   "metadata": {},
   "outputs": [],
   "source": [
    "preds = dlc.make_preds(seq_df=df_effect_aa)"
   ]
  },
  {
   "cell_type": "code",
   "execution_count": null,
   "metadata": {},
   "outputs": [],
   "source": [
    "plt.scatter(df_effect_aa.index,preds)\n",
    "plt.xticks(df_effect_aa.index,df_effect_aa[\"seq\"]+\"+\"+df_effect_aa[\"modifications\"],rotation=90)\n",
    "plt.ylabel(\"Predicted retention time (s)\")\n",
    "plt.show()"
   ]
  },
  {
   "cell_type": "markdown",
   "metadata": {},
   "source": [
    "## 2.4.2 Questions - playground retention time prediction"
   ]
  },
  {
   "cell_type": "markdown",
   "metadata": {},
   "source": [
    "<ol>\n",
    "  <li>Can you design a peptide that falls in between \"IIVINKPNNPIGK\" and \"IIVINTPNNPIGK\" in terms of retention time?</li>\n",
    "  <li>What effect do certain modifications have? Is this expected?</li>\n",
    "  <li>Do you expect that modifications always have the same effect?</li>\n",
    "</ol>"
   ]
  }
 ],
 "metadata": {
  "language_info": {
   "name": "python"
  },
  "orig_nbformat": 4
 },
 "nbformat": 4,
 "nbformat_minor": 2
}
