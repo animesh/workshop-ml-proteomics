{
 "cells": [
  {
   "cell_type": "markdown",
   "metadata": {},
   "source": [
    "## 2.3 Predict retention times of modified peptides\n",
    "\n",
    "### 2.3.1 Effect of modifications on retention time\n",
    "\n",
    "Lets first make predictions:"
   ]
  },
  {
   "cell_type": "code",
   "execution_count": null,
   "metadata": {},
   "outputs": [],
   "source": [
    "!pip install deeplc"
   ]
  },
  {
   "cell_type": "code",
   "execution_count": null,
   "metadata": {},
   "outputs": [],
   "source": [
    "import pandas as pd\n",
    "import seaborn as sns\n",
    "from deeplc import DeepLC\n",
    "from matplotlib import pyplot as plt\n",
    "\n",
    "# Suppress tensorflow logging\n",
    "import os\n",
    "import warnings\n",
    "os.environ['TF_CPP_MIN_LOG_LEVEL'] = '3' \n",
    "warnings.filterwarnings('ignore', category=DeprecationWarning)\n",
    "warnings.filterwarnings('ignore', category=FutureWarning)\n",
    "import tensorflow as tf\n",
    "tf.get_logger().setLevel('ERROR')\n",
    "\n",
    "df = pd.read_csv(\"https://dl.dropboxusercontent.com/s/bok4w3jw2gxohbz/deeplc_input.csv\",index_col=0)\n",
    "df.fillna(\"\",inplace=True)\n",
    "\n",
    "num_total_rows_select = 5000\n",
    "num_calib = 250\n",
    "\n",
    "sub_df_pred = df[df[\"scan\"].isin(list(set(df[\"scan\"].sample(num_total_rows_select))))].copy()\n",
    "sub_df_calib = sub_df_pred[sub_df_pred[\"scan\"].isin(list(set(sub_df_pred[sub_df_pred[\"q_value\"] < 0.01][\"scan\"].sample(num_calib))))].copy()\n",
    "\n",
    "sub_df_pred.rename({\n",
    "    \"database_peptide\" : \"seq\",\n",
    "    \"rt\" : \"tr\"\n",
    "},axis=1,inplace=True)\n",
    "\n",
    "sub_df_calib.rename({\n",
    "    \"database_peptide\" : \"seq\",\n",
    "    \"rt\" : \"tr\"\n",
    "},axis=1,inplace=True)\n",
    "\n",
    "dlc = DeepLC(\n",
    "    cnn_model=True,\n",
    "    pygam_calibration=False,\n",
    "    verbose=False\n",
    ")\n",
    "\n",
    "dlc.calibrate_preds(seq_df=sub_df_calib[sub_df_calib[\"best_psm\"]==1])\n",
    "\n",
    "preds = dlc.make_preds(seq_df=sub_df_pred)\n",
    "sub_df_pred[\"preds\"] = preds"
   ]
  },
  {
   "cell_type": "markdown",
   "metadata": {},
   "source": [
    "In the next cells we predict retention times for modified peptides:"
   ]
  },
  {
   "cell_type": "code",
   "execution_count": null,
   "metadata": {},
   "outputs": [],
   "source": [
    "def plot_modification(sub_df_best,modification=\"carbamidomethyl\"):\n",
    "    # Init plot\n",
    "    plt.figure(figsize=(7,7))\n",
    "    ax = plt.gca()\n",
    "    ax.set_aspect('equal')\n",
    "\n",
    "    # Plot data\n",
    "    plt.scatter(sub_df_best[sub_df_best[\"modifications\"].str.contains(modification)][\"tr\"],sub_df_best[sub_df_best[\"modifications\"].str.contains(modification)][\"preds\"],alpha=0.5,s=4)\n",
    "    plt.plot([1500,14500],[1500,14500],c=\"black\",linestyle=\"dotted\")\n",
    "    \n",
    "    plt.title(modification)\n",
    "    plt.xlabel(\"Observed retention time (s)\")\n",
    "    plt.ylabel(\"Predicted retention time (s)\")\n",
    "    \n",
    "    plt.show()"
   ]
  },
  {
   "cell_type": "code",
   "execution_count": null,
   "metadata": {
    "scrolled": true
   },
   "outputs": [],
   "source": [
    "sub_df_best = sub_df_pred[sub_df_pred[\"best_psm\"]==1]\n",
    "sub_df_best = sub_df_best[sub_df_best[\"q_value\"]<0.001]\n",
    "\n",
    "plot_modification(sub_df_best,modification=\"carbamidomethyl\")\n",
    "plot_modification(sub_df_best,modification=\"Formyl\")\n",
    "plot_modification(sub_df_best,modification=\"Dehydrated\")\n",
    "plot_modification(sub_df_best,modification=\"Ammonium\")\n",
    "plot_modification(sub_df_best,modification=\"Sulfide\")"
   ]
  },
  {
   "cell_type": "markdown",
   "metadata": {},
   "source": [
    "# 2.4 Playground - design your own peptides and modifications and predict their retention time (optional for a later time for the real enthusiasts)"
   ]
  },
  {
   "cell_type": "markdown",
   "metadata": {},
   "source": [
    "## 2.4.1 Make predictions for your own peptide and modifications combos"
   ]
  },
  {
   "cell_type": "markdown",
   "metadata": {},
   "source": [
    "Provide the data for peptides you want to predict:"
   ]
  },
  {
   "cell_type": "code",
   "execution_count": null,
   "metadata": {},
   "outputs": [],
   "source": [
    "#IIVINTPNNPIGK\n",
    "dict_effect_aa = {\n",
    "    \"seq\" : [\"IIVINKPNNPIGK\", # K on pos 6\n",
    "             \"IIVINTPNNPIGK\", # T on pos 6\n",
    "             \"IIVINAPNNPIGK\", # A on pos 6\n",
    "             \"IIVINWPNNPIGK\"  # W on pos 6\n",
    "            ],\n",
    "    \"modifications\" : [\"\",\"\",\"\",\"\"],\n",
    "    \"tr\" : [0,1,2,3]\n",
    "}\n",
    "\n",
    "df_effect_aa = pd.DataFrame(dict_effect_aa)"
   ]
  },
  {
   "cell_type": "code",
   "execution_count": null,
   "metadata": {
    "scrolled": false
   },
   "outputs": [],
   "source": [
    "preds = dlc.make_preds(seq_df=df_effect_aa)"
   ]
  },
  {
   "cell_type": "markdown",
   "metadata": {},
   "source": [
    "Lets have a look at their predictions:"
   ]
  },
  {
   "cell_type": "code",
   "execution_count": null,
   "metadata": {},
   "outputs": [],
   "source": [
    "plt.scatter(df_effect_aa.index,preds)\n",
    "plt.xticks(df_effect_aa.index,df_effect_aa[\"seq\"])\n",
    "plt.ylabel(\"Predicted retention time (s)\")\n",
    "plt.show()"
   ]
  },
  {
   "cell_type": "markdown",
   "metadata": {},
   "source": [
    "Provide the data for peptides+modifications you want to predict:"
   ]
  },
  {
   "cell_type": "code",
   "execution_count": null,
   "metadata": {},
   "outputs": [],
   "source": [
    "#IIVINTPNNPIGK\n",
    "dict_effect_aa = {\n",
    "    \"seq\" : [\"IIVINCPNNPIGK\", \"IIVINCPNNPIGK\", \"IIVINQPNNPIGK\", \"IIVINQPNNPIGK\", \"IIVINMPNNPIGK\", \"IIVINMPNNPIGK\"],\n",
    "    \"modifications\" : [\"\",\"6|carbamidomethyl\",\"\",\"6|Deamidated\",\"\",\"6|Formyl\"],\n",
    "    \"tr\" : [0,1,2,3,4,5]\n",
    "}\n",
    "\n",
    "df_effect_aa = pd.DataFrame(dict_effect_aa)"
   ]
  },
  {
   "cell_type": "code",
   "execution_count": null,
   "metadata": {},
   "outputs": [],
   "source": [
    "preds = dlc.make_preds(seq_df=df_effect_aa)"
   ]
  },
  {
   "cell_type": "code",
   "execution_count": null,
   "metadata": {},
   "outputs": [],
   "source": [
    "plt.scatter(df_effect_aa.index,preds)\n",
    "plt.xticks(df_effect_aa.index,df_effect_aa[\"seq\"]+\"+\"+df_effect_aa[\"modifications\"],rotation=90)\n",
    "plt.ylabel(\"Predicted retention time (s)\")\n",
    "plt.show()"
   ]
  },
  {
   "cell_type": "markdown",
   "metadata": {},
   "source": [
    "## 2.4.2 Questions - playground retention time prediction"
   ]
  },
  {
   "cell_type": "markdown",
   "metadata": {},
   "source": [
    "<ol>\n",
    "  <li>Can you design a peptide that falls in between \"IIVINKPNNPIGK\" and \"IIVINTPNNPIGK\" in terms of retention time?</li>\n",
    "  <li>What effect do certain modifications have? Is this expected?</li>\n",
    "  <li>Do you expect that modifications always have the same effect?</li>\n",
    "</ol>"
   ]
  }
 ],
 "metadata": {
  "kernelspec": {
   "display_name": "Python 3 (ipykernel)",
   "language": "python",
   "name": "python3"
  },
  "language_info": {
   "codemirror_mode": {
    "name": "ipython",
    "version": 3
   },
   "file_extension": ".py",
   "mimetype": "text/x-python",
   "name": "python",
   "nbconvert_exporter": "python",
   "pygments_lexer": "ipython3",
   "version": "3.9.7"
  }
 },
 "nbformat": 4,
 "nbformat_minor": 2
}
