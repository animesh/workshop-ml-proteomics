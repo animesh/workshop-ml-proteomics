{
 "cells": [
  {
   "cell_type": "code",
   "execution_count": null,
   "id": "e446191c-737e-4322-a315-311dfb4cec44",
   "metadata": {},
   "outputs": [],
   "source": [
    "! conda install -f conda-requirements.txt -c bioconda -c conda-forge -c defaults"
   ]
  },
  {
   "cell_type": "code",
   "execution_count": null,
   "id": "8fca9dca-dfca-4883-ae6c-6b2d7e1f019b",
   "metadata": {},
   "outputs": [],
   "source": [
    "! pip install -r requirements.txt"
   ]
  }
 ],
 "metadata": {
  "kernelspec": {
   "display_name": "Python 3 (ipykernel)",
   "language": "python",
   "name": "python3"
  },
  "language_info": {
   "codemirror_mode": {
    "name": "ipython",
    "version": 3
   },
   "file_extension": ".py",
   "mimetype": "text/x-python",
   "name": "python",
   "nbconvert_exporter": "python",
   "pygments_lexer": "ipython3",
   "version": "3.7.11"
  }
 },
 "nbformat": 4,
 "nbformat_minor": 5
}
