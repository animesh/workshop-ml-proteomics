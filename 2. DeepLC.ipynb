{
 "cells": [
  {
   "cell_type": "markdown",
   "metadata": {},
   "source": [
    "# 2. DeepLC"
   ]
  },
  {
   "cell_type": "code",
   "execution_count": null,
   "metadata": {},
   "outputs": [],
   "source": [
    "!pip install deeplc"
   ]
  },
  {
   "cell_type": "code",
   "execution_count": null,
   "metadata": {},
   "outputs": [],
   "source": [
    "# Import default libs\n",
    "import re\n",
    "import os\n",
    "\n",
    "# Import data libs\n",
    "import pandas as pd\n",
    "\n",
    "# Import DeepLC\n",
    "from deeplc import DeepLC\n",
    "from deeplc import FeatExtractor\n",
    "\n",
    "# Import plotting libs\n",
    "from matplotlib import pyplot as plt\n",
    "import seaborn as sns\n",
    "\n",
    "# Supress warnings (or at least try...)\n",
    "os.environ['TF_CPP_MIN_LOG_LEVEL'] = '3' \n",
    "import warnings\n",
    "warnings.filterwarnings('ignore', category=DeprecationWarning)\n",
    "warnings.filterwarnings('ignore', category=FutureWarning)\n",
    "\n",
    "# Set the dir of analysis\n",
    "main_dir = \"DeepLC_data/\""
   ]
  },
  {
   "cell_type": "markdown",
   "metadata": {},
   "source": [
    "# 2.0 Introduction"
   ]
  },
  {
   "cell_type": "markdown",
   "metadata": {},
   "source": [
    "## 2.0.1 High Performance/Pressure Liquid Chromatography\n",
    "As all data acquisition parts in LC-IM-MS the LC part separates analytes. In this case the separation is based on the physicochemical properties of our peptides. In most cases peptides are separated based on their hydrophobicity in so-called reverse-phase LC. A more detailed explanation is provided here: https://www.ssi.shimadzu.com/products/liquid-chromatography/knowledge-base/hplc-basics.html\n",
    "\n",
    "This schematic representation of the instrument is the nightmare of every mass spectrometrist (i.e., this instrument is very prown to break):\n",
    "\n",
    "![workflow_lc](https://cdn.technologynetworks.com/tn/images/body/lcfigure11608121500011.png)\n",
    "\n",
    "Source: https://www.technologynetworks.com/analysis/articles/liquid-chromatography-including-hplc-uhplc-and-lcxlc-344048\n",
    "\n"
   ]
  },
  {
   "cell_type": "markdown",
   "metadata": {},
   "source": [
    "## 2.0.2 Mobile and stationary phase; migration through the column\n",
    "In HPLC the separation happens in a column:\n",
    "\n",
    "<img src=\"https://www.waters.com/content/dam/waters/en/Photography/Products/consumables/columns/symmetry-columns-family.jpg.thumb.319.319.png\" alt=\"column\" width=\"200\"/>\n",
    "\n",
    "This separation is achieved with two phases, the stationary phase can look like this:\n",
    "<img src=\"https://2.bp.blogspot.com/-ICtYlU6RTu8/Wu756aCSE5I/AAAAAAAAHTw/YYXrCk-A7kAJyLEbDYEJzs0nl6M_P_gRQCLcBGAs/s320/c8-c18-column.jpg\" alt=\"stationary\" width=\"200\"/>\n",
    "\n",
    "The sample is pumped the column with two solvents that form the mobile phase (A and B):\n",
    "<img src=\"https://www.ssi.shimadzu.com/sites/ssi.shimadzu.com/files/Products/Images/hplc/knowledge-base/hplc-screening-gradients-1.png\" alt=\"mobile\" width=\"200\"/>\n",
    "\n",
    "The analytes in the sample interact with both the stationary and mobile phase. The physicochemical properties of the peptides dictate how much they can interact with either of the two phases. (More) interaction with the mobile phase results in migration of the peptides in the column:\n",
    "![workflow_lc](https://www.ssi.shimadzu.com/sites/ssi.shimadzu.com/files/Products/Images/hplc/knowledge-base/sample-bands-animation.gif)\n",
    "\n",
    "Source: https://www.ssi.shimadzu.com/products/liquid-chromatography/knowledge-base/hplc-basics.html"
   ]
  },
  {
   "cell_type": "markdown",
   "metadata": {},
   "source": [
    "# 2.1 DeepLC predictions"
   ]
  },
  {
   "cell_type": "markdown",
   "metadata": {},
   "source": [
    "## 2.1.1 Reading data and preparing instances of DeepLC objects"
   ]
  },
  {
   "cell_type": "markdown",
   "metadata": {},
   "source": [
    "First we will read a table that contains all of our data:"
   ]
  },
  {
   "cell_type": "code",
   "execution_count": null,
   "metadata": {},
   "outputs": [],
   "source": [
    "df = pd.read_csv(\"https://dl.dropboxusercontent.com/s/bok4w3jw2gxohbz/deeplc_input.csv\",index_col=0)"
   ]
  },
  {
   "cell_type": "markdown",
   "metadata": {},
   "source": [
    "The data looks like this:"
   ]
  },
  {
   "cell_type": "code",
   "execution_count": null,
   "metadata": {},
   "outputs": [],
   "source": [
    "print(df)"
   ]
  },
  {
   "cell_type": "markdown",
   "metadata": {},
   "source": [
    "We have multiple columns describing the scan number, if a PSM is the best ranked PSM, if there are any modifications, the precursor mass, the peptide mass, the observed retention time, and the associated q-value with the PSM."
   ]
  },
  {
   "cell_type": "markdown",
   "metadata": {},
   "source": [
    "For DeepLC we need strings instead of NaN in the modifications column, so lets replace those with empty strings:"
   ]
  },
  {
   "cell_type": "code",
   "execution_count": null,
   "metadata": {},
   "outputs": [],
   "source": [
    "df.fillna(\"\",inplace=True)"
   ]
  },
  {
   "cell_type": "markdown",
   "metadata": {},
   "source": [
    "Here we sample rows from the original table, this is purely done for computational reasons (e.g., on a laptop). Feel free to increase the numbers if you have a faster system."
   ]
  },
  {
   "cell_type": "code",
   "execution_count": null,
   "metadata": {},
   "outputs": [],
   "source": [
    "num_total_rows_select = 5000\n",
    "num_calib = 250\n",
    "\n",
    "sub_df_pred = df[df[\"scan\"].isin(list(set(df[\"scan\"].sample(num_total_rows_select))))]\n",
    "sub_df_calib = sub_df_pred[sub_df_pred[\"scan\"].isin(list(set(sub_df_pred[sub_df_pred[\"q_value\"] < 0.01][\"scan\"].sample(num_calib))))]"
   ]
  },
  {
   "cell_type": "markdown",
   "metadata": {},
   "source": [
    "Here we make sure that the column names are changed to something that DeepLC recognizes:"
   ]
  },
  {
   "cell_type": "code",
   "execution_count": null,
   "metadata": {},
   "outputs": [],
   "source": [
    "sub_df_pred.rename({\n",
    "    \"database_peptide\" : \"seq\",\n",
    "    \"rt\" : \"tr\"\n",
    "},axis=1,inplace=True)\n",
    "\n",
    "sub_df_calib.rename({\n",
    "    \"database_peptide\" : \"seq\",\n",
    "    \"rt\" : \"tr\"\n",
    "},axis=1,inplace=True)"
   ]
  },
  {
   "cell_type": "markdown",
   "metadata": {},
   "source": [
    "Initiate a DeepLC instance that will perform the calibration and predictions:"
   ]
  },
  {
   "cell_type": "code",
   "execution_count": null,
   "metadata": {
    "scrolled": true
   },
   "outputs": [],
   "source": [
    "dlc = DeepLC(\n",
    "    cnn_model=True,\n",
    "    pygam_calibration=False,\n",
    "    verbose=False\n",
    ")"
   ]
  },
  {
   "cell_type": "markdown",
   "metadata": {},
   "source": [
    "We need to calibrate predictions to our specific LC setup to make them valid, so first we will feed some predictions to our DeepLC instance:"
   ]
  },
  {
   "cell_type": "code",
   "execution_count": null,
   "metadata": {
    "scrolled": true
   },
   "outputs": [],
   "source": [
    "dlc.calibrate_preds(seq_df=sub_df_calib[sub_df_calib[\"best_psm\"]==1])"
   ]
  },
  {
   "cell_type": "markdown",
   "metadata": {},
   "source": [
    "# 2.2 Prediction errors of (ranked) PSMs"
   ]
  },
  {
   "cell_type": "markdown",
   "metadata": {},
   "source": [
    "## 2.2.1 Comparing rank 1 and lower ranked PSMs for the whole data set"
   ]
  },
  {
   "cell_type": "markdown",
   "metadata": {},
   "source": [
    "Lets first make predictions:"
   ]
  },
  {
   "cell_type": "code",
   "execution_count": null,
   "metadata": {},
   "outputs": [],
   "source": [
    "preds = dlc.make_preds(seq_df=sub_df_pred)\n",
    "sub_df_pred[\"preds\"] = preds"
   ]
  },
  {
   "cell_type": "markdown",
   "metadata": {},
   "source": [
    "In the next cell we compare first-ranked PSMs against lower-ranked PSMs. It is immediately obvious that the lower-ranked PSMs have a wider error distribution. This highlights the possibility of rescoring PSMs in further analysis."
   ]
  },
  {
   "cell_type": "code",
   "execution_count": null,
   "metadata": {},
   "outputs": [],
   "source": [
    "sub_df_pred_lowerrank = sub_df_pred[sub_df_pred[\"best_psm\"]==0]\n",
    "sub_df_pred_firstrank = sub_df_pred[sub_df_pred[\"best_psm\"]==1]\n",
    "\n",
    "# Init plot\n",
    "plt.figure(figsize=(10,10))\n",
    "ax = plt.gca()\n",
    "ax.set_aspect('equal')\n",
    "\n",
    "# Plot data\n",
    "plt.scatter(sub_df_pred_lowerrank[\"tr\"],sub_df_pred_lowerrank[\"preds\"],s=3.5, alpha=0.25,label=\"Lower rank PSM\")\n",
    "plt.scatter(sub_df_pred_firstrank[\"tr\"],sub_df_pred_firstrank[\"preds\"],s=3.5, alpha=0.25,label=\"First ranked PSM\")\n",
    "plt.plot([1500,14500],[1500,14500],c=\"black\",linestyle=\"dotted\")\n",
    "\n",
    "plt.xlabel(\"Observed retention time (s)\")\n",
    "plt.ylabel(\"Predicted retention time (s)\")\n",
    "plt.legend()\n",
    "\n",
    "plt.show()\n",
    "\n",
    "sns.distplot(sub_df_pred_lowerrank[\"tr\"]-sub_df_pred_lowerrank[\"preds\"],\n",
    "             hist = False, kde = True, label=\"Lower rank PSM\")\n",
    "sns.distplot(sub_df_pred_firstrank[\"tr\"]-sub_df_pred_firstrank[\"preds\"],\n",
    "             hist = False, kde = True, label=\"First ranked PSM\")\n",
    "plt.xlabel(\"Error (s)\")\n",
    "plt.show()"
   ]
  },
  {
   "cell_type": "markdown",
   "metadata": {},
   "source": [
    "# 2.3 Predict retention times of modified peptides"
   ]
  },
  {
   "cell_type": "markdown",
   "metadata": {},
   "source": [
    "## 2.3.1 Effect of modifications on retention time"
   ]
  },
  {
   "cell_type": "code",
   "execution_count": null,
   "metadata": {},
   "outputs": [],
   "source": [
    "def plot_modification(sub_df_best,modification=\"carbamidomethyl\"):\n",
    "    # Init plot\n",
    "    plt.figure(figsize=(7,7))\n",
    "    ax = plt.gca()\n",
    "    ax.set_aspect('equal')\n",
    "\n",
    "    # Plot data\n",
    "    plt.scatter(sub_df_best[sub_df_best[\"modifications\"].str.contains(modification)][\"tr\"],sub_df_best[sub_df_best[\"modifications\"].str.contains(modification)][\"preds\"],alpha=0.5,s=4)\n",
    "    plt.plot([1500,14500],[1500,14500],c=\"black\",linestyle=\"dotted\")\n",
    "    \n",
    "    plt.title(modification)\n",
    "    plt.xlabel(\"Observed retention time (s)\")\n",
    "    plt.ylabel(\"Predicted retention time (s)\")\n",
    "    \n",
    "    plt.show()"
   ]
  },
  {
   "cell_type": "code",
   "execution_count": null,
   "metadata": {
    "scrolled": false
   },
   "outputs": [],
   "source": [
    "sub_df_best = sub_df_pred[sub_df_pred[\"best_psm\"]==1]\n",
    "sub_df_best = sub_df_best[sub_df_best[\"q_value\"]<0.001]\n",
    "\n",
    "plot_modification(sub_df_best,modification=\"carbamidomethyl\")\n",
    "plot_modification(sub_df_best,modification=\"Formyl\")\n",
    "plot_modification(sub_df_best,modification=\"Dehydrated\")\n",
    "plot_modification(sub_df_best,modification=\"Ammonium\")\n",
    "plot_modification(sub_df_best,modification=\"Sulfide\")"
   ]
  },
  {
   "cell_type": "markdown",
   "metadata": {},
   "source": [
    "## 2.3.2 Questions - retention time prediction of modified peptides"
   ]
  },
  {
   "cell_type": "markdown",
   "metadata": {},
   "source": [
    "<ol>\n",
    "  <li>Would it be hard for a model to predict retention times of modifications that was not trained on?</li>\n",
    "  <li>What modifications would be hardest?</li>\n",
    "</ol>"
   ]
  },
  {
   "cell_type": "markdown",
   "metadata": {},
   "source": [
    "# 2.4 Playground - design your own peptides and modifications and predict their retention time (optional for a later time for the real enthusiasts)"
   ]
  },
  {
   "cell_type": "markdown",
   "metadata": {},
   "source": [
    "## 2.4.1 Make predictions for your own peptide and modifications combos"
   ]
  },
  {
   "cell_type": "markdown",
   "metadata": {},
   "source": [
    "Provide the data for peptides you want to predict:"
   ]
  },
  {
   "cell_type": "code",
   "execution_count": null,
   "metadata": {},
   "outputs": [],
   "source": [
    "#IIVINTPNNPIGK\n",
    "dict_effect_aa = {\n",
    "    \"seq\" : [\"IIVINKPNNPIGK\", \"IIVINTPNNPIGK\", \"IIVINAPNNPIGK\", \"IIVINWPNNPIGK\"],\n",
    "    \"modifications\" : [\"\",\"\",\"\",\"\"],\n",
    "    \"tr\" : [0,1,2,3]\n",
    "}\n",
    "\n",
    "df_effect_aa = pd.DataFrame(dict_effect_aa)"
   ]
  },
  {
   "cell_type": "code",
   "execution_count": null,
   "metadata": {
    "scrolled": false
   },
   "outputs": [],
   "source": [
    "preds = dlc.make_preds(seq_df=df_effect_aa)"
   ]
  },
  {
   "cell_type": "markdown",
   "metadata": {},
   "source": [
    "Lets have a look at their predictions:"
   ]
  },
  {
   "cell_type": "code",
   "execution_count": null,
   "metadata": {},
   "outputs": [],
   "source": [
    "plt.scatter(df_effect_aa.index,preds)\n",
    "plt.xticks(df_effect_aa.index,df_effect_aa[\"seq\"])\n",
    "plt.ylabel(\"Predicted retention time (s)\")\n",
    "plt.show()"
   ]
  },
  {
   "cell_type": "markdown",
   "metadata": {},
   "source": [
    "Provide the data for peptides+modifications you want to predict:"
   ]
  },
  {
   "cell_type": "code",
   "execution_count": null,
   "metadata": {},
   "outputs": [],
   "source": [
    "#IIVINTPNNPIGK\n",
    "dict_effect_aa = {\n",
    "    \"seq\" : [\"IIVINCPNNPIGK\", \"IIVINCPNNPIGK\", \"IIVINQPNNPIGK\", \"IIVINQPNNPIGK\", \"IIVINMPNNPIGK\", \"IIVINMPNNPIGK\"],\n",
    "    \"modifications\" : [\"\",\"6|carbamidomethyl\",\"\",\"6|Deamidated\",\"\",\"6|Formyl\"],\n",
    "    \"tr\" : [0,1,2,3,4,5]\n",
    "}\n",
    "\n",
    "df_effect_aa = pd.DataFrame(dict_effect_aa)"
   ]
  },
  {
   "cell_type": "code",
   "execution_count": null,
   "metadata": {},
   "outputs": [],
   "source": [
    "preds = dlc.make_preds(seq_df=df_effect_aa)"
   ]
  },
  {
   "cell_type": "code",
   "execution_count": null,
   "metadata": {},
   "outputs": [],
   "source": [
    "plt.scatter(df_effect_aa.index,preds)\n",
    "plt.xticks(df_effect_aa.index,df_effect_aa[\"seq\"]+\"+\"+df_effect_aa[\"modifications\"],rotation=90)\n",
    "plt.ylabel(\"Predicted retention time (s)\")\n",
    "plt.show()"
   ]
  },
  {
   "cell_type": "markdown",
   "metadata": {},
   "source": [
    "## 2.4.2 Questions - playground retention time prediction"
   ]
  },
  {
   "cell_type": "markdown",
   "metadata": {},
   "source": [
    "<ol>\n",
    "  <li>Can you design a peptide that falls in between \"IIVINKPNNPIGK\" and \"IIVINTPNNPIGK\" in terms of retention time?</li>\n",
    "  <li>What effect do certain modifications have? Is this expected?</li>\n",
    "  <li>Do you expect that modifications always have the same effect?</li>\n",
    "</ol>"
   ]
  }
 ],
 "metadata": {
  "kernelspec": {
   "display_name": "Python 3 (ipykernel)",
   "language": "python",
   "name": "python3"
  },
  "language_info": {
   "codemirror_mode": {
    "name": "ipython",
    "version": 3
   },
   "file_extension": ".py",
   "mimetype": "text/x-python",
   "name": "python",
   "nbconvert_exporter": "python",
   "pygments_lexer": "ipython3",
   "version": "3.9.7"
  }
 },
 "nbformat": 4,
 "nbformat_minor": 4
}
