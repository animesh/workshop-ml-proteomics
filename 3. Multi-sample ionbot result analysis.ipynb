{
  "cells": [
    {
      "cell_type": "markdown",
      "source": [
        "# Multi-sample ionbot result analysis"
      ],
      "metadata": {
        "id": "h1aZ-a4YOvWJ"
      }
    },
    {
      "cell_type": "code",
      "execution_count": null,
      "metadata": {
        "id": "BFmgxhYFC1vT"
      },
      "outputs": [],
      "source": [
        "%matplotlib inline\n",
        "import matplotlib.pyplot as plt\n",
        "import seaborn as sns\n",
        "import numpy as np\n",
        "import pandas as pd\n",
        "import plotly.express as px\n",
        "import zipfile\n",
        "!pip -q install itables\n",
        "from itables import init_notebook_mode\n",
        "init_notebook_mode(all_interactive=True)\n",
        "import itables.options as opt\n",
        "opt.maxBytes = 0\n",
        "opt.classes = [\"display\", \"nowrap\",\"compact\",\"hover\"]\n",
        "opt.showIndex = False\n",
        "opt.style = \"max-width:6000px\"\n",
        "pd.set_option('display.max_colwidth', 20)"
      ]
    },
    {
      "cell_type": "markdown",
      "metadata": {
        "id": "ieM3lZWDC1vY"
      },
      "source": [
        "This notebook executes the analysis of one or more samples at the peptide and modfication.\n",
        "\n",
        "For each sample, the `ionbot.twbx` result file needs to be put into a seperate folder with the folder name corresponding to a unique sample name.  \n",
        "\n",
        "In this case we will analyse the ionbot search results of three samples and created one folder for each sample:\n",
        "\n",
        "```\n",
        "PXD000561\n",
        "├── PXD000561_closed\n",
        "│   └── ionbot.twbx\n",
        "├── PXD000561_full\n",
        "│   └── ionbot.twbx\n",
        "├── PXD000561_nocorr_nort\n",
        "│   └── ionbot.twbx\n",
        "```\n",
        "\n",
        "We can specify this as follows:"
      ]
    },
    {
      "cell_type": "code",
      "execution_count": null,
      "metadata": {
        "id": "bBHtXMkDC1vb"
      },
      "outputs": [],
      "source": [
        "experiment = \"PXD000561\"\n",
        "samples = [\"PXD000561_closed\",\"PXD000561_full\",\"PXD000561_nocorr_nort\"] "
      ]
    },
    {
      "cell_type": "markdown",
      "source": [
        "The following code will download the ionbot search results:"
      ],
      "metadata": {
        "id": "QhBfR92hIB2F"
      }
    },
    {
      "cell_type": "code",
      "execution_count": null,
      "metadata": {
        "id": "TWzCxT5XC1vd"
      },
      "outputs": [],
      "source": [
        "! wget http://genesis.ugent.be/uvpublicdata/workshop-ml-proteomics/PXD000561.zip\n",
        "! unzip PXD000561.zip"
      ]
    },
    {
      "cell_type": "markdown",
      "metadata": {
        "id": "myUudvFUC1ve"
      },
      "source": [
        "Next we unpack the result files:"
      ]
    },
    {
      "cell_type": "code",
      "execution_count": null,
      "metadata": {
        "id": "0bUJfuIKC1vf"
      },
      "outputs": [],
      "source": [
        "for sample in samples:\n",
        "    folder = \"%s/%s/\"%(experiment,sample)\n",
        "    archive = zipfile.ZipFile(\"%s/ionbot.twbx\"%folder)\n",
        "    for file in archive.namelist():\n",
        "        if file.startswith('Data/'):\n",
        "            archive.extract(file, folder)"
      ]
    },
    {
      "cell_type": "markdown",
      "metadata": {
        "id": "0mRrnZxSC1vg"
      },
      "source": [
        "We parse the result files and create one Pandas DataFrame that contains all the results:"
      ]
    },
    {
      "cell_type": "code",
      "execution_count": null,
      "metadata": {
        "id": "C6injXQYC1vh"
      },
      "outputs": [],
      "source": [
        "tmp = []\n",
        "for sample in samples:\n",
        "    print(sample)\n",
        "    folder = \"%s/%s/Data/ionbot_result/\"%(experiment,sample)\n",
        "    ionbot_first = pd.read_csv(\"%s/ionbot.first.csv\"%folder)\n",
        "    ionbot_first[\"rank\"] = [\"first\"]*len(ionbot_first)\n",
        "    ionbot_lower = pd.read_csv(\"%s/ionbot.lower.csv\"%folder)\n",
        "    ionbot_lower[\"rank\"] = [\"lower\"]*len(ionbot_lower)\n",
        "    ionbot = pd.concat([ionbot_first,ionbot_lower])\n",
        "    ionbot = ionbot[(ionbot[\"database\"]==\"T\")&(ionbot[\"q-value\"]<=0.01)]\n",
        "    ionbot[\"modifications\"].fillna(\"-\",inplace=True)\n",
        "    ionbot_features = pd.read_csv(\"%s/ionbot.features.csv\"%folder)\n",
        "    ionbot = ionbot.merge(ionbot_features,on=\"ionbot_match_id\",how=\"left\")\n",
        "    ionbot[\"sample\"] = [sample]*len(ionbot)\n",
        "    tmp.append(ionbot)\n",
        "ionbot = pd.concat(tmp)"
      ]
    },
    {
      "cell_type": "code",
      "execution_count": null,
      "metadata": {
        "id": "V9Ey894NC1vj"
      },
      "outputs": [],
      "source": [
        "ionbot.columns"
      ]
    },
    {
      "cell_type": "markdown",
      "source": [
        "Count the number of PSMs for each sample:"
      ],
      "metadata": {
        "id": "xkxwHx7QIOu-"
      }
    },
    {
      "cell_type": "code",
      "execution_count": null,
      "metadata": {
        "id": "hvAyquiAC1vl"
      },
      "outputs": [],
      "source": [
        "tmp = ionbot[\"sample\"].value_counts().reset_index(level=0)\n",
        "tmp.columns = [\"sample\",\"#ids\"]\n",
        "fig = px.bar(tmp, y='sample', x='#ids', orientation='h')\n",
        "fig.update_layout(yaxis={'categoryorder':'total ascending'})\n",
        "fig.show()"
      ]
    },
    {
      "cell_type": "markdown",
      "source": [
        "Count the number of unique peptidoforms for each sample:"
      ],
      "metadata": {
        "id": "V2moCA8QIYx4"
      }
    },
    {
      "cell_type": "code",
      "execution_count": null,
      "metadata": {
        "id": "HQ6XJspGC1vm"
      },
      "outputs": [],
      "source": [
        "tmp = ionbot.drop_duplicates([\"sample\",\"matched_peptide\",\"modifications\"],keep=\"first\")\n",
        "tmp = tmp[\"sample\"].value_counts().reset_index(level=0)\n",
        "tmp.columns = [\"sample\",\"#ids\"]\n",
        "fig = px.bar(tmp, y='sample', x='#ids', orientation='h')\n",
        "fig.update_layout(yaxis={'categoryorder':'total ascending'})\n",
        "fig.show()"
      ]
    },
    {
      "cell_type": "markdown",
      "source": [
        "Count the number of unique peptides for each sample:"
      ],
      "metadata": {
        "id": "EwCu_iy0ITkO"
      }
    },
    {
      "cell_type": "code",
      "execution_count": null,
      "metadata": {
        "id": "cV3sZY2kC1vn"
      },
      "outputs": [],
      "source": [
        "tmp = ionbot.drop_duplicates([\"sample\",\"matched_peptide\"],keep=\"first\")\n",
        "tmp = tmp[\"sample\"].value_counts().reset_index(level=0)\n",
        "tmp.columns = [\"sample\",\"#ids\"]\n",
        "fig = px.bar(tmp, y='sample', x='#ids', orientation='h')\n",
        "fig.update_layout(yaxis={'categoryorder':'total ascending'})\n",
        "fig.show()"
      ]
    },
    {
      "cell_type": "markdown",
      "source": [
        "Here we look at the PSM identification overlap between the samples:"
      ],
      "metadata": {
        "id": "z__XKtRiIdPI"
      }
    },
    {
      "cell_type": "code",
      "execution_count": null,
      "metadata": {
        "id": "BFxzILsGC1vp"
      },
      "outputs": [],
      "source": [
        "p = {}\n",
        "for sample in samples:\n",
        "    p[sample] = list(ionbot[ionbot[\"sample\"]==sample][\"matched_peptide\"].unique())"
      ]
    },
    {
      "cell_type": "code",
      "execution_count": null,
      "metadata": {
        "id": "FBxzYywPC1vq"
      },
      "outputs": [],
      "source": [
        "d = []\n",
        "for sample1 in p:\n",
        "    dd = []\n",
        "    for sample2 in p:\n",
        "        dd.append(len(set(p[sample1]).intersection(set(p[sample2]))))\n",
        "    d.append(dd)\n",
        "    \n",
        "intersect = pd.DataFrame(d,columns=p,index=p)"
      ]
    },
    {
      "cell_type": "code",
      "execution_count": null,
      "metadata": {
        "id": "osFW1vXRC1vs"
      },
      "outputs": [],
      "source": [
        "intersect.style.background_gradient(cmap='Blues')"
      ]
    },
    {
      "cell_type": "markdown",
      "source": [
        "Next, we load the protein group results:"
      ],
      "metadata": {
        "id": "XkdmLp39IjXY"
      }
    },
    {
      "cell_type": "code",
      "execution_count": null,
      "metadata": {
        "id": "0Sfr2CApC1vt"
      },
      "outputs": [],
      "source": [
        "tmp = []\n",
        "for sample in samples:\n",
        "    folder = \"%s/%s/Data/ionbot_result/\"%(experiment,sample)\n",
        "    proteins = pd.read_csv(\"%s/ionbot.coeluting.proteins.csv\"%folder)\n",
        "    proteins = proteins[proteins[\"is_shared_peptide\"]==False]\n",
        "    proteins.drop_duplicates(\"ionbot_match_id\",inplace=True)\n",
        "    proteins[\"sample\"] = [sample]*len(proteins)\n",
        "    tmp.append(proteins)\n",
        "proteins = pd.concat(tmp)\n",
        "proteins = proteins.merge(ionbot,on=[\"sample\",\"ionbot_match_id\"],how=\"inner\")"
      ]
    },
    {
      "cell_type": "code",
      "execution_count": null,
      "metadata": {
        "id": "xrHHbKBPC1vt"
      },
      "outputs": [],
      "source": [
        "proteins.head(200)"
      ]
    },
    {
      "cell_type": "markdown",
      "source": [
        "We count the number of protein groups identified in each sample:"
      ],
      "metadata": {
        "id": "YpKHsEkKIoHM"
      }
    },
    {
      "cell_type": "code",
      "source": [
        "tmp = []\n",
        "for sample in samples:\n",
        "  tmp.append([sample,len(proteins[proteins[\"sample\"] == sample][\"protein_group\"].unique())])\n",
        "fig = px.bar(pd.DataFrame(tmp,columns=[\"sample\",\"#protein-groups\"]), y='sample', x='#protein-groups', orientation='h')\n",
        "fig.update_layout(yaxis={'categoryorder':'total ascending'})\n",
        "fig.show()\n"
      ],
      "metadata": {
        "id": "FYxZb6xoEWi8"
      },
      "execution_count": null,
      "outputs": []
    },
    {
      "cell_type": "markdown",
      "source": [
        "Some proteins are identified with many peptidoforms:"
      ],
      "metadata": {
        "id": "l9nYnhpYIwk6"
      }
    },
    {
      "cell_type": "code",
      "source": [
        "sample = proteins[proteins[\"sample\"]==\"PXD000561_full\"]"
      ],
      "metadata": {
        "id": "3YZqCbsaMSs_"
      },
      "execution_count": null,
      "outputs": []
    },
    {
      "cell_type": "code",
      "source": [
        "sample[\"#unexpected\"] = sample.drop_duplicates([\"matched_peptide\",\n",
        "                                                \"unexpected_modification\"]).groupby('protein_group')['unexpected_modification'].transform('count')"
      ],
      "metadata": {
        "id": "FPjdy3maMVWw"
      },
      "execution_count": null,
      "outputs": []
    },
    {
      "cell_type": "code",
      "source": [
        "sample[[\"protein_group\",\"#unexpected\"]].drop_duplicates(\"protein_group\")"
      ],
      "metadata": {
        "id": "lr-xvwhOM0-u"
      },
      "execution_count": null,
      "outputs": []
    },
    {
      "cell_type": "code",
      "source": [
        "protein_group = \"H4_HUMAN\"\n",
        "\n",
        "cols_to_use = [\"protein_group\",\"unexpected_modification\",\"position_in_protein\"]\n",
        "tmp[tmp[\"protein_group\"]==protein_group].drop_duplicates(\"unexpected_modification\")[cols_to_use]"
      ],
      "metadata": {
        "id": "Sf4N5SkTFlt9"
      },
      "execution_count": null,
      "outputs": []
    },
    {
      "cell_type": "code",
      "source": [
        ""
      ],
      "metadata": {
        "id": "k_GINY52HE9_"
      },
      "execution_count": null,
      "outputs": []
    }
  ],
  "metadata": {
    "kernelspec": {
      "display_name": "Python 3",
      "language": "python",
      "name": "python3"
    },
    "language_info": {
      "codemirror_mode": {
        "name": "ipython",
        "version": 3
      },
      "file_extension": ".py",
      "mimetype": "text/x-python",
      "name": "python",
      "nbconvert_exporter": "python",
      "pygments_lexer": "ipython3",
      "version": "3.8.3"
    },
    "colab": {
      "name": "3. Multi-sample ionbot result analysis.ipynb",
      "provenance": []
    }
  },
  "nbformat": 4,
  "nbformat_minor": 0
}