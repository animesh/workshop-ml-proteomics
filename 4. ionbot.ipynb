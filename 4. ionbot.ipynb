{
 "cells": [
  {
   "cell_type": "code",
   "execution_count": 12,
   "metadata": {},
   "outputs": [],
   "source": [
    "%matplotlib inline\n",
    "import matplotlib.pyplot as plt\n",
    "import seaborn as sns\n",
    "import numpy as np\n",
    "import pandas as pd\n",
    "import seaborn as sns"
   ]
  },
  {
   "cell_type": "code",
   "execution_count": 13,
   "metadata": {},
   "outputs": [],
   "source": [
    "folder = \"/home/compomics/tools/ionbot_paper\"\n",
    "dataset = \"PXD001250\"\n",
    "\n",
    "#conditions: \"_nort\",\"_nocorr\",\"_nocorr_nort\",\"_closed\"\n",
    "condition = \"_nocorr_nort\""
   ]
  },
  {
   "cell_type": "code",
   "execution_count": 14,
   "metadata": {},
   "outputs": [
    {
     "name": "stdout",
     "output_type": "stream",
     "text": [
      "1    393377\n",
      "2     44266\n",
      "3      2262\n",
      "4        60\n",
      "Name: num_matches, dtype: int64\n",
      "1    351019\n",
      "2     31198\n",
      "3      1221\n",
      "4         8\n",
      "Name: num_matches, dtype: int64\n"
     ]
    }
   ],
   "source": [
    "#read results open search\n",
    "ionbot = pd.read_csv(\"%s/%s/ionbot.first.csv\"%(folder,dataset))\n",
    "ionbot[\"rank\"] = [\"first\"]*len(ionbot)\n",
    "\n",
    "tmp = pd.read_csv(\"%s/%s/ionbot.lower.csv\"%(folder,dataset))\n",
    "tmp[\"rank\"] = [\"lower\"]*len(tmp)\n",
    "ionbot = pd.concat([ionbot,tmp])\n",
    "\n",
    "tmp = pd.read_csv(\"%s/%s/ionbot.features.csv\"%(folder,dataset))\n",
    "ionbot = ionbot.merge(tmp,on=\"ionbot_match_id\",how=\"left\")\n",
    "\n",
    "ionbot[\"PSM\"] = ionbot[\"scan\"].astype(str) + ionbot[\"spectrum_file\"] +  \"|PSM|\" +  ionbot[\"matched_peptide\"]\n",
    "ionbot[\"num_matches\"] = ionbot.groupby([\"spectrum_file\",\"scan\"])[\"scan\"].transform(\"count\")\n",
    "print(ionbot[\"num_matches\"].value_counts())\n",
    "\n",
    "#read consition results\n",
    "ionbot_c = pd.read_csv(\"%s/%s%s/ionbot.first.csv\"%(folder,dataset,condition))\n",
    "ionbot_c[\"rank\"] = [\"first\"]*len(ionbot_c)\n",
    "\n",
    "tmp = pd.read_csv(\"%s/%s%s/ionbot.lower.csv\"%(folder,dataset,condition))\n",
    "tmp[\"rank\"] = [\"lower\"]*len(tmp)\n",
    "ionbot_c = pd.concat([ionbot_c,tmp])\n",
    "\n",
    "tmp = pd.read_csv(\"%s/%s%s/ionbot.features.csv\"%(folder,dataset,condition))\n",
    "ionbot_c = ionbot_c.merge(tmp,on=\"ionbot_match_id\",how=\"left\")\n",
    "\n",
    "ionbot_c[\"PSM\"] = ionbot_c[\"scan\"].astype(str) + ionbot_c[\"spectrum_file\"] +  \"|PSM|\" +  ionbot_c[\"matched_peptide\"]\n",
    "ionbot_c[\"num_matches\"] = ionbot_c.groupby([\"spectrum_file\",\"scan\"])[\"scan\"].transform(\"count\")\n",
    "print(ionbot_c[\"num_matches\"].value_counts())\n"
   ]
  },
  {
   "cell_type": "code",
   "execution_count": 15,
   "metadata": {},
   "outputs": [
    {
     "name": "stdout",
     "output_type": "stream",
     "text": [
      "False    372860\n",
      "True      67105\n",
      "Name: unique, dtype: int64\n",
      "False    372860\n",
      "True      10586\n",
      "Name: unique, dtype: int64\n"
     ]
    }
   ],
   "source": [
    "s1 = set(ionbot[\"PSM\"])\n",
    "s2 = set(ionbot_c[\"PSM\"])\n",
    "\n",
    "#matches unique to ionbot\n",
    "s = s1.difference(s2)\n",
    "ionbot[\"unique\"] = ionbot[\"PSM\"].apply(lambda x: x in s)\n",
    "print(ionbot[\"unique\"].value_counts())\n",
    "\n",
    "#matches unique to ionbot_c\n",
    "s = s2.difference(s1)\n",
    "ionbot_c[\"unique\"] = ionbot_c[\"PSM\"].apply(lambda x: x in s)\n",
    "print(ionbot_c[\"unique\"].value_counts())"
   ]
  },
  {
   "cell_type": "code",
   "execution_count": 18,
   "metadata": {},
   "outputs": [
    {
     "data": {
      "text/plain": [
       "<AxesSubplot:xlabel='unique', ylabel='by-intensity-pattern-correlation'>"
      ]
     },
     "execution_count": 18,
     "metadata": {},
     "output_type": "execute_result"
    },
    {
     "data": {
      "image/png": "[encoded data removed]",
      "text/plain": [
       "<Figure size 432x288 with 1 Axes>"
      ]
     },
     "metadata": {
      "needs_background": "light"
     },
     "output_type": "display_data"
    }
   ],
   "source": [
    "sns.boxplot(x=\"unique\",y=\"by-intensity-pattern-correlation\",data=ionbot)"
   ]
  },
  {
   "cell_type": "code",
   "execution_count": 19,
   "metadata": {},
   "outputs": [
    {
     "data": {
      "text/plain": [
       "<AxesSubplot:xlabel='unique', ylabel='by-intensity-pattern-correlation'>"
      ]
     },
     "execution_count": 19,
     "metadata": {},
     "output_type": "execute_result"
    },
    {
     "data": {
      "image/png": "[encoded data removed]",
      "text/plain": [
       "<Figure size 432x288 with 1 Axes>"
      ]
     },
     "metadata": {
      "needs_background": "light"
     },
     "output_type": "display_data"
    }
   ],
   "source": [
    "sns.boxplot(x=\"unique\",y=\"by-intensity-pattern-correlation\",data=ionbot_c)"
   ]
  },
  {
   "cell_type": "code",
   "execution_count": 25,
   "metadata": {},
   "outputs": [],
   "source": [
    "def get_universal_link(x):\n",
    "    if str(x[\"modifications\"]) == \"nan\":\n",
    "        return \"http://proteomecentral.proteomexchange.org/usi/?usi=mzspec:%s:%s:scan:%i:%s/%i\"%(dataset,x[\"spectrum_file\"],x[\"scan\"],x[\"matched_peptide\"],x[\"charge\"])\n",
    "    tmp = x[\"modifications\"].split(\"|\")\n",
    "    seq = list(x[\"matched_peptide\"])\n",
    "    for i in range(0,len(tmp),2):\n",
    "        if tmp[i] == \"x\": #not observed in MS1\n",
    "            continue\n",
    "        if tmp[i+1][0] != \"[\": #mutation\n",
    "            continue\n",
    "        mod = int(tmp[i+1].split(']')[0][1:])\n",
    "        if mod == 4:\n",
    "            continue\n",
    "        pos = int(tmp[i])\n",
    "        seq.insert(pos,\"[UNIMOD:%i]\"%mod)\n",
    "    return \"http://proteomecentral.proteomexchange.org/usi/?usi=mzspec:%s:%s:scan:%i:%s/%i\"%(dataset,x[\"spectrum_file\"],x[\"scan\"],''.join(seq),x[\"charge\"])\n",
    "\n",
    "ionbot[\"USI\"] = ionbot.apply(get_universal_link,axis=1)"
   ]
  },
  {
   "cell_type": "code",
   "execution_count": null,
   "metadata": {},
   "outputs": [],
   "source": []
  }
 ],
 "metadata": {
  "interpreter": {
   "hash": "916dbcbb3f70747c44a77c7bcd40155683ae19c65e1c03b4aa3499c5328201f1"
  },
  "kernelspec": {
   "display_name": "Python 3",
   "language": "python",
   "name": "python3"
  },
  "language_info": {
   "codemirror_mode": {
    "name": "ipython",
    "version": 3
   },
   "file_extension": ".py",
   "mimetype": "text/x-python",
   "name": "python",
   "nbconvert_exporter": "python",
   "pygments_lexer": "ipython3",
   "version": "3.8.3"
  }
 },
 "nbformat": 4,
 "nbformat_minor": 4
}
