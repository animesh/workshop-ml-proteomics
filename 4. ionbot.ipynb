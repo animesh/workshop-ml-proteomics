{
 "cells": [
  {
   "cell_type": "markdown",
   "metadata": {},
   "source": [
    "# 4. ionbot"
   ]
  },
  {
   "cell_type": "code",
   "execution_count": 7,
   "metadata": {},
   "outputs": [
    {
     "ename": "ModuleNotFoundError",
     "evalue": "No module named 'plotly'",
     "output_type": "error",
     "traceback": [
      "\u001b[1;31m---------------------------------------------------------------------------\u001b[0m",
      "\u001b[1;31mModuleNotFoundError\u001b[0m                       Traceback (most recent call last)",
      "\u001b[1;32m<ipython-input-7-d055ad05f9c1>\u001b[0m in \u001b[0;36m<module>\u001b[1;34m\u001b[0m\n\u001b[0;32m      5\u001b[0m \u001b[1;32mimport\u001b[0m \u001b[0mpandas\u001b[0m \u001b[1;32mas\u001b[0m \u001b[0mpd\u001b[0m\u001b[1;33m\u001b[0m\u001b[1;33m\u001b[0m\u001b[0m\n\u001b[0;32m      6\u001b[0m \u001b[1;32mimport\u001b[0m \u001b[0mseaborn\u001b[0m \u001b[1;32mas\u001b[0m \u001b[0msns\u001b[0m\u001b[1;33m\u001b[0m\u001b[1;33m\u001b[0m\u001b[0m\n\u001b[1;32m----> 7\u001b[1;33m \u001b[1;32mimport\u001b[0m \u001b[0mplotly\u001b[0m\u001b[1;33m.\u001b[0m\u001b[0mexpress\u001b[0m \u001b[1;32mas\u001b[0m \u001b[0mpx\u001b[0m\u001b[1;33m\u001b[0m\u001b[1;33m\u001b[0m\u001b[0m\n\u001b[0m",
      "\u001b[1;31mModuleNotFoundError\u001b[0m: No module named 'plotly'"
     ]
    }
   ],
   "source": [
    "%matplotlib inline\n",
    "import matplotlib.pyplot as plt\n",
    "import seaborn as sns\n",
    "import numpy as np\n",
    "import pandas as pd\n",
    "import seaborn as sns\n",
    "from collections import Counter\n",
    "import plotly.express as px"
   ]
  },
  {
   "cell_type": "code",
   "execution_count": 8,
   "metadata": {},
   "outputs": [],
   "source": [
    "folder = \"http://genesis.ugent.be/uvpublicdata/workshop-ml-proteomics/4-Ionbot/\"\n",
    "dataset = \"PXD001250\""
   ]
  },
  {
   "cell_type": "code",
   "execution_count": 9,
   "metadata": {},
   "outputs": [],
   "source": [
    "def get_ionbot_condition(condition,folder,dataset):\n",
    "    #read consition results\n",
    "    ionbot_c = pd.read_csv(\"%s/%s%s/ionbot.first.csv\"%(folder,dataset,condition))\n",
    "    ionbot_c[\"rank\"] = [\"first\"]*len(ionbot_c)\n",
    "\n",
    "    tmp = pd.read_csv(\"%s/%s%s/ionbot.features.csv\"%(folder,dataset,condition))\n",
    "    ionbot_c = ionbot_c.merge(tmp,on=\"ionbot_match_id\",how=\"left\")\n",
    "\n",
    "    ionbot_c[\"PSM\"] = ionbot_c[\"scan\"].astype(str) + ionbot_c[\"spectrum_file\"] +  \"|PSM|\" +  ionbot_c[\"matched_peptide\"]\n",
    "    ionbot_c[\"num_matches\"] = ionbot_c.groupby([\"spectrum_file\",\"scan\"])[\"scan\"].transform(\"count\")\n",
    "    return ionbot_c\n",
    "\n",
    "def get_unique_proteins(protein_series):\n",
    "    uprotein = []\n",
    "    for protein in protein_series:\n",
    "        uprotein.extend(protein.split(\"||\"))\n",
    "    \n",
    "    return set(uprotein)\n",
    "\n",
    "def return_search_metrics(df):\n",
    "\n",
    "    len_psms = len(df.index)\n",
    "    len_peptides = len(set(df[\"matched_peptide\"]+\"|\"+df[\"modifications\"].fillna(\"\")))\n",
    "    len_proteins = len(get_unique_proteins(df[\"proteins\"]))\n",
    "\n",
    "    return [len_psms, len_peptides, len_proteins]\n"
   ]
  },
  {
   "cell_type": "code",
   "execution_count": 10,
   "metadata": {},
   "outputs": [],
   "source": [
    "# First we'll load the datasets for the open and closed modification search\n",
    "ionbot = get_ionbot_condition(\"\",folder,dataset)\n",
    "ionbot_c = get_ionbot_condition(\"_closed\",folder,dataset)\n",
    "ionbot_nocorr = get_ionbot_condition(\"_nocorr\",folder,dataset)\n",
    "ionbot_nort = get_ionbot_condition(\"_nort\",folder,dataset)\n",
    "ionbot_nocorr_nort = get_ionbot_condition(\"_nocorr_nort\",folder,dataset)\n"
   ]
  },
  {
   "cell_type": "code",
   "execution_count": 11,
   "metadata": {},
   "outputs": [],
   "source": [
    "# Choose the level of identifications you want to plot\n",
    "level = 2\n",
    "level_dict = {\n",
    "    0:\"psms\",\n",
    "    1:\"peptides\",\n",
    "    2:\"proteins\"\n",
    "}"
   ]
  },
  {
   "cell_type": "code",
   "execution_count": 12,
   "metadata": {},
   "outputs": [
    {
     "ename": "NameError",
     "evalue": "name 'px' is not defined",
     "output_type": "error",
     "traceback": [
      "\u001b[1;31m---------------------------------------------------------------------------\u001b[0m",
      "\u001b[1;31mNameError\u001b[0m                                 Traceback (most recent call last)",
      "\u001b[1;32m<ipython-input-12-9cd16a43f9a8>\u001b[0m in \u001b[0;36m<module>\u001b[1;34m\u001b[0m\n\u001b[0;32m      1\u001b[0m \u001b[1;31m# Let's check the the number of psms for the open search versus the closed search\u001b[0m\u001b[1;33m\u001b[0m\u001b[1;33m\u001b[0m\u001b[1;33m\u001b[0m\u001b[0m\n\u001b[1;32m----> 2\u001b[1;33m fig = px.bar(\n\u001b[0m\u001b[0;32m      3\u001b[0m     \u001b[0my\u001b[0m\u001b[1;33m=\u001b[0m\u001b[1;33m[\u001b[0m\u001b[0mreturn_search_metrics\u001b[0m\u001b[1;33m(\u001b[0m\u001b[0mionbot\u001b[0m\u001b[1;33m)\u001b[0m\u001b[1;33m[\u001b[0m\u001b[0mlevel\u001b[0m\u001b[1;33m]\u001b[0m\u001b[1;33m,\u001b[0m \u001b[0mreturn_search_metrics\u001b[0m\u001b[1;33m(\u001b[0m\u001b[0mionbot_c\u001b[0m\u001b[1;33m)\u001b[0m\u001b[1;33m[\u001b[0m\u001b[0mlevel\u001b[0m\u001b[1;33m]\u001b[0m\u001b[1;33m]\u001b[0m\u001b[1;33m,\u001b[0m\u001b[1;33m\u001b[0m\u001b[1;33m\u001b[0m\u001b[0m\n\u001b[0;32m      4\u001b[0m     \u001b[0mx\u001b[0m\u001b[1;33m=\u001b[0m\u001b[1;33m[\u001b[0m\u001b[1;34m\" open\"\u001b[0m\u001b[1;33m,\u001b[0m \u001b[1;34m\"closed\"\u001b[0m\u001b[1;33m]\u001b[0m\u001b[1;33m,\u001b[0m\u001b[1;33m\u001b[0m\u001b[1;33m\u001b[0m\u001b[0m\n\u001b[0;32m      5\u001b[0m     labels={\n",
      "\u001b[1;31mNameError\u001b[0m: name 'px' is not defined"
     ]
    }
   ],
   "source": [
    "# Let's check the the number of psms for the open search versus the closed search\n",
    "fig = px.bar(\n",
    "    y=[return_search_metrics(ionbot)[level], return_search_metrics(ionbot_c)[level]], \n",
    "    x=[\" open\", \"closed\"],\n",
    "    labels={\n",
    "    \"y\": f\"number of {level_dict[level]}\",\n",
    "    \"x\": \"search condition\",\n",
    "    }\n",
    ")\n",
    "fig\n"
   ]
  },
  {
   "cell_type": "code",
   "execution_count": null,
   "metadata": {},
   "outputs": [],
   "source": [
    "# Now let's check it for all the conditions\n",
    "fig = px.bar(\n",
    "    y= [\n",
    "        return_search_metrics(ionbot)[level],\n",
    "        return_search_metrics(ionbot_c)[level],\n",
    "        return_search_metrics(ionbot_nocorr)[level],\n",
    "        return_search_metrics(ionbot_nort)[level],\n",
    "        return_search_metrics(ionbot_nocorr_nort)[level],\n",
    "    ],\n",
    "    x=[\"open\", \"closed\",\"no correlation\", \"no retention time\", \"no correlation & no retention time\"],\n",
    "    labels={\n",
    "    \"y\": f\"number of {level_dict[level]}\",\n",
    "    \"x\": \"search condition\",\n",
    "    }\n",
    ")\n",
    "fig"
   ]
  },
  {
   "cell_type": "markdown",
   "metadata": {},
   "source": [
    "# 4.X Analysing modifications"
   ]
  },
  {
   "cell_type": "markdown",
   "metadata": {},
   "source": [
    "In this tutorial we will keep the analysis of modifications very simple and short. We will look at the amount of modifications found across all PSMs."
   ]
  },
  {
   "cell_type": "code",
   "execution_count": 13,
   "metadata": {},
   "outputs": [
    {
     "ename": "NameError",
     "evalue": "name 're' is not defined",
     "output_type": "error",
     "traceback": [
      "\u001b[1;31m---------------------------------------------------------------------------\u001b[0m",
      "\u001b[1;31mNameError\u001b[0m                                 Traceback (most recent call last)",
      "\u001b[1;32m<ipython-input-13-7f91ba9e4b12>\u001b[0m in \u001b[0;36m<module>\u001b[1;34m\u001b[0m\n\u001b[0;32m     16\u001b[0m     \u001b[1;32mreturn\u001b[0m \u001b[0mall_mods_counter_obj\u001b[0m\u001b[1;33m\u001b[0m\u001b[1;33m\u001b[0m\u001b[0m\n\u001b[0;32m     17\u001b[0m \u001b[1;33m\u001b[0m\u001b[0m\n\u001b[1;32m---> 18\u001b[1;33m \u001b[0mall_mods_counter_obj\u001b[0m \u001b[1;33m=\u001b[0m \u001b[0mget_all_mods\u001b[0m\u001b[1;33m(\u001b[0m\u001b[0mionbot\u001b[0m\u001b[1;33m)\u001b[0m\u001b[1;33m\u001b[0m\u001b[1;33m\u001b[0m\u001b[0m\n\u001b[0m",
      "\u001b[1;32m<ipython-input-13-7f91ba9e4b12>\u001b[0m in \u001b[0;36mget_all_mods\u001b[1;34m(df)\u001b[0m\n\u001b[0;32m      3\u001b[0m \u001b[1;33m\u001b[0m\u001b[0m\n\u001b[0;32m      4\u001b[0m     \u001b[1;32mfor\u001b[0m \u001b[0mionbot_modifications\u001b[0m \u001b[1;32min\u001b[0m \u001b[0mionbot\u001b[0m\u001b[1;33m[\u001b[0m\u001b[1;34m\"modifications\"\u001b[0m\u001b[1;33m]\u001b[0m\u001b[1;33m.\u001b[0m\u001b[0mfillna\u001b[0m\u001b[1;33m(\u001b[0m\u001b[1;34m\"\"\u001b[0m\u001b[1;33m)\u001b[0m\u001b[1;33m:\u001b[0m\u001b[1;33m\u001b[0m\u001b[1;33m\u001b[0m\u001b[0m\n\u001b[1;32m----> 5\u001b[1;33m         \u001b[0mmod_names\u001b[0m \u001b[1;33m=\u001b[0m \u001b[0mre\u001b[0m\u001b[1;33m.\u001b[0m\u001b[0msub\u001b[0m\u001b[1;33m(\u001b[0m\u001b[1;34m'\\[.*?\\]'\u001b[0m\u001b[1;33m,\u001b[0m \u001b[1;34m''\u001b[0m\u001b[1;33m,\u001b[0m \u001b[0mionbot_modifications\u001b[0m\u001b[1;33m)\u001b[0m\u001b[1;33m\u001b[0m\u001b[1;33m\u001b[0m\u001b[0m\n\u001b[0m\u001b[0;32m      6\u001b[0m         \u001b[1;32mfor\u001b[0m \u001b[0mmod_name\u001b[0m \u001b[1;32min\u001b[0m \u001b[0mmod_names\u001b[0m\u001b[1;33m.\u001b[0m\u001b[0msplit\u001b[0m\u001b[1;33m(\u001b[0m\u001b[1;34m\"|\"\u001b[0m\u001b[1;33m)\u001b[0m\u001b[1;33m:\u001b[0m\u001b[1;33m\u001b[0m\u001b[1;33m\u001b[0m\u001b[0m\n\u001b[0;32m      7\u001b[0m             \u001b[1;32mif\u001b[0m \u001b[0mmod_name\u001b[0m \u001b[1;33m==\u001b[0m \u001b[1;34m\"\"\u001b[0m\u001b[1;33m:\u001b[0m\u001b[1;33m\u001b[0m\u001b[1;33m\u001b[0m\u001b[0m\n",
      "\u001b[1;31mNameError\u001b[0m: name 're' is not defined"
     ]
    }
   ],
   "source": [
    "def get_all_mods(df):\n",
    "    mod_list = []\n",
    "\n",
    "    for ionbot_modifications in ionbot[\"modifications\"].fillna(\"\"):\n",
    "        mod_names = re.sub('\\[.*?\\]', '', ionbot_modifications)\n",
    "        for mod_name in mod_names.split(\"|\"):\n",
    "            if mod_name == \"\":\n",
    "                continue\n",
    "            try:\n",
    "                int(mod_name)\n",
    "            except ValueError:\n",
    "                mod_list.append(mod_name.lower())\n",
    "\n",
    "    all_mods = [am for am in mod_list if all_mods != \"\"]\n",
    "    all_mods_counter_obj = Counter(mod_list)\n",
    "    return all_mods_counter_obj\n",
    "\n",
    "all_mods_counter_obj = get_all_mods(ionbot)"
   ]
  },
  {
   "cell_type": "markdown",
   "metadata": {},
   "source": [
    "When we plot the frequency of the top 30 occurring modifications we get the following plot:"
   ]
  },
  {
   "cell_type": "code",
   "execution_count": null,
   "metadata": {},
   "outputs": [],
   "source": [
    "plt.figure(figsize=(15,4))\n",
    "plt.bar([k for k,v in all_mods_counter_obj.most_common(30)],[v for k,v in all_mods_counter_obj.most_common(30)])\n",
    "plt.xticks(rotation=90)\n",
    "plt.show()"
   ]
  },
  {
   "cell_type": "markdown",
   "metadata": {},
   "source": [
    "## 4.X.X Questions - Analysing modifications"
   ]
  },
  {
   "cell_type": "markdown",
   "metadata": {},
   "source": [
    "<ol>\n",
    "  <li>What kind of modifications should be most frequently observed?</li>\n",
    "  <li>Are there modifications you did not expect to see (this frequent?</li>\n",
    "</ol>"
   ]
  },
  {
   "cell_type": "code",
   "execution_count": null,
   "metadata": {},
   "outputs": [],
   "source": []
  }
 ],
 "metadata": {
  "interpreter": {
   "hash": "916dbcbb3f70747c44a77c7bcd40155683ae19c65e1c03b4aa3499c5328201f1"
  },
  "kernelspec": {
   "display_name": "Python 3",
   "language": "python",
   "name": "python3"
  },
  "language_info": {
   "codemirror_mode": {
    "name": "ipython",
    "version": 3
   },
   "file_extension": ".py",
   "mimetype": "text/x-python",
   "name": "python",
   "nbconvert_exporter": "python",
   "pygments_lexer": "ipython3",
   "version": "3.8.3"
  }
 },
 "nbformat": 4,
 "nbformat_minor": 4
}
