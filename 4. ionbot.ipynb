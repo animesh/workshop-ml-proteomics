{
 "cells": [
  {
   "cell_type": "markdown",
   "metadata": {},
   "source": [
    "# 4. ionbot"
   ]
  },
  {
   "cell_type": "code",
   "execution_count": 1,
   "metadata": {},
   "outputs": [],
   "source": [
    "%matplotlib inline\n",
    "import matplotlib.pyplot as plt\n",
    "import seaborn as sns\n",
    "import numpy as np\n",
    "import pandas as pd\n",
    "import seaborn as sns"
   ]
  },
  {
   "cell_type": "code",
   "execution_count": 2,
   "metadata": {},
   "outputs": [],
   "source": [
    "folder = \"http://genesis.ugent.be/uvpublicdata/workshop-ml-proteomics/4-Ionbot/\"\n",
    "dataset = \"PXD001250\"\n",
    "\n",
    "#conditions: \"_nort\",\"_nocorr\",\"_nocorr_nort\",\"_closed\"\n",
    "condition = \"_nocorr_nort\""
   ]
  },
  {
   "cell_type": "code",
   "execution_count": 9,
   "metadata": {},
   "outputs": [],
   "source": [
    "def get_ionbot_condition(condition,folder,dataset):\n",
    "    #read consition results\n",
    "    ionbot_c = pd.read_csv(\"%s/%s%s/ionbot.first.csv\"%(folder,dataset,condition))\n",
    "    ionbot_c[\"rank\"] = [\"first\"]*len(ionbot_c)\n",
    "\n",
    "    tmp = pd.read_csv(\"%s/%s%s/ionbot.lower.csv\"%(folder,dataset,condition))\n",
    "    tmp[\"rank\"] = [\"lower\"]*len(tmp)\n",
    "    ionbot_c = pd.concat([ionbot_c,tmp])\n",
    "\n",
    "    tmp = pd.read_csv(\"%s/%s%s/ionbot.features.csv\"%(folder,dataset,condition))\n",
    "    ionbot_c = ionbot_c.merge(tmp,on=\"ionbot_match_id\",how=\"left\")\n",
    "\n",
    "    ionbot_c[\"PSM\"] = ionbot_c[\"scan\"].astype(str) + ionbot_c[\"spectrum_file\"] +  \"|PSM|\" +  ionbot_c[\"matched_peptide\"]\n",
    "    ionbot_c[\"num_matches\"] = ionbot_c.groupby([\"spectrum_file\",\"scan\"])[\"scan\"].transform(\"count\")\n",
    "    return ionbot_c\n"
   ]
  },
  {
   "cell_type": "code",
   "execution_count": 10,
   "metadata": {},
   "outputs": [],
   "source": [
    "ionbot = get_ionbot_condition(\"\",folder,dataset)\n",
    "ionbot_c = get_ionbot_condition(\"_nocorr_nort\",folder,dataset)"
   ]
  },
  {
   "cell_type": "code",
   "execution_count": 25,
   "metadata": {},
   "outputs": [
    {
     "data": {
      "text/plain": [
       "85893"
      ]
     },
     "execution_count": 25,
     "metadata": {},
     "output_type": "execute_result"
    }
   ],
   "source": [
    "len(ionbot.index)\n",
    "len(ionbot_c.index)\n",
    "\n",
    "len(set(ionbot[\"matched_peptide\"]+\"|\"+ionbot[\"modifications\"].fillna(\"\")))\n",
    "len(set(ionbot[\"matched_peptide\"]+\"|\"+ionbot[\"modifications\"].fillna(\"\")))\n",
    "\n",
    "len(set(ionbot[\"proteins\"]))"
   ]
  },
  {
   "cell_type": "code",
   "execution_count": 17,
   "metadata": {},
   "outputs": [
    {
     "data": {
      "text/plain": [
       "['ionbot_match_id',\n",
       " 'spectrum_title',\n",
       " 'scan',\n",
       " 'spectrum_file',\n",
       " 'precursor_mass',\n",
       " 'peptide_mass',\n",
       " 'observed_retention_time',\n",
       " 'charge',\n",
       " 'database_peptide',\n",
       " 'matched_peptide',\n",
       " 'modifications',\n",
       " 'modifications_delta',\n",
       " 'best_tag_rank',\n",
       " 'corrected_retention_time',\n",
       " 'unexpected_modification',\n",
       " 'database',\n",
       " 'psm_score',\n",
       " 'q-value',\n",
       " 'PEP',\n",
       " 'proteins',\n",
       " 'sfile',\n",
       " 'PSM',\n",
       " 'rank',\n",
       " 'by-count',\n",
       " 'all-count',\n",
       " 'by-explained',\n",
       " 'all-explained',\n",
       " 'by-intensity-pattern-correlation',\n",
       " 'predicted_retention_time',\n",
       " 'rt-pred-error',\n",
       " 'num_matches']"
      ]
     },
     "execution_count": 17,
     "metadata": {},
     "output_type": "execute_result"
    }
   ],
   "source": [
    "list(ionbot.columns)"
   ]
  },
  {
   "cell_type": "code",
   "execution_count": null,
   "metadata": {},
   "outputs": [],
   "source": []
  },
  {
   "cell_type": "code",
   "execution_count": null,
   "metadata": {},
   "outputs": [],
   "source": []
  },
  {
   "cell_type": "code",
   "execution_count": null,
   "metadata": {},
   "outputs": [],
   "source": []
  },
  {
   "cell_type": "code",
   "execution_count": 4,
   "metadata": {},
   "outputs": [
    {
     "name": "stdout",
     "output_type": "stream",
     "text": [
      "False    372860\n",
      "True      67105\n",
      "Name: unique, dtype: int64\n",
      "False    372860\n",
      "True      10586\n",
      "Name: unique, dtype: int64\n"
     ]
    }
   ],
   "source": [
    "s1 = set(ionbot[\"PSM\"])\n",
    "s2 = set(ionbot_c[\"PSM\"])\n",
    "\n",
    "#matches unique to ionbot\n",
    "s = s1.difference(s2)\n",
    "ionbot[\"unique\"] = ionbot[\"PSM\"].apply(lambda x: x in s)\n",
    "print(ionbot[\"unique\"].value_counts())\n",
    "\n",
    "#matches unique to ionbot_c\n",
    "s = s2.difference(s1)\n",
    "ionbot_c[\"unique\"] = ionbot_c[\"PSM\"].apply(lambda x: x in s)\n",
    "print(ionbot_c[\"unique\"].value_counts())"
   ]
  },
  {
   "cell_type": "code",
   "execution_count": 5,
   "metadata": {},
   "outputs": [
    {
     "data": {
      "text/plain": [
       "<matplotlib.axes._subplots.AxesSubplot at 0x29b6a0fe3a0>"
      ]
     },
     "execution_count": 5,
     "metadata": {},
     "output_type": "execute_result"
    },
    {
     "data": {
      "image/png": "[encoded data removed]",
      "text/plain": [
       "<Figure size 432x288 with 1 Axes>"
      ]
     },
     "metadata": {
      "needs_background": "light"
     },
     "output_type": "display_data"
    }
   ],
   "source": [
    "sns.boxplot(x=\"unique\",y=\"by-intensity-pattern-correlation\",data=ionbot)"
   ]
  },
  {
   "cell_type": "code",
   "execution_count": 6,
   "metadata": {},
   "outputs": [
    {
     "data": {
      "text/plain": [
       "<matplotlib.axes._subplots.AxesSubplot at 0x29b0570a880>"
      ]
     },
     "execution_count": 6,
     "metadata": {},
     "output_type": "execute_result"
    },
    {
     "data": {
      "image/png": "[encoded data removed]",
      "text/plain": [
       "<Figure size 432x288 with 1 Axes>"
      ]
     },
     "metadata": {
      "needs_background": "light"
     },
     "output_type": "display_data"
    }
   ],
   "source": [
    "sns.boxplot(x=\"unique\",y=\"by-intensity-pattern-correlation\",data=ionbot_c)"
   ]
  },
  {
   "cell_type": "code",
   "execution_count": 7,
   "metadata": {},
   "outputs": [],
   "source": [
    "def get_universal_link(x):\n",
    "    if str(x[\"modifications\"]) == \"nan\":\n",
    "        return \"http://proteomecentral.proteomexchange.org/usi/?usi=mzspec:%s:%s:scan:%i:%s/%i\"%(dataset,x[\"spectrum_file\"],x[\"scan\"],x[\"matched_peptide\"],x[\"charge\"])\n",
    "    tmp = x[\"modifications\"].split(\"|\")\n",
    "    seq = list(x[\"matched_peptide\"])\n",
    "    for i in range(0,len(tmp),2):\n",
    "        if tmp[i] == \"x\": #not observed in MS1\n",
    "            continue\n",
    "        if tmp[i+1][0] != \"[\": #mutation\n",
    "            continue\n",
    "        mod = int(tmp[i+1].split(']')[0][1:])\n",
    "        if mod == 4:\n",
    "            continue\n",
    "        pos = int(tmp[i])\n",
    "        seq.insert(pos,\"[UNIMOD:%i]\"%mod)\n",
    "    return \"http://proteomecentral.proteomexchange.org/usi/?usi=mzspec:%s:%s:scan:%i:%s/%i\"%(dataset,x[\"spectrum_file\"],x[\"scan\"],''.join(seq),x[\"charge\"])\n",
    "\n",
    "ionbot[\"USI\"] = ionbot.apply(get_universal_link,axis=1)"
   ]
  },
  {
   "cell_type": "code",
   "execution_count": null,
   "metadata": {},
   "outputs": [],
   "source": []
  }
 ],
 "metadata": {
  "interpreter": {
   "hash": "916dbcbb3f70747c44a77c7bcd40155683ae19c65e1c03b4aa3499c5328201f1"
  },
  "kernelspec": {
   "display_name": "Python 3",
   "language": "python",
   "name": "python3"
  },
  "language_info": {
   "codemirror_mode": {
    "name": "ipython",
    "version": 3
   },
   "file_extension": ".py",
   "mimetype": "text/x-python",
   "name": "python",
   "nbconvert_exporter": "python",
   "pygments_lexer": "ipython3",
   "version": "3.8.3"
  }
 },
 "nbformat": 4,
 "nbformat_minor": 4
}
