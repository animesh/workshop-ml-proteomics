{
 "cells": [
  {
   "cell_type": "markdown",
   "metadata": {
    "id": "VNcI3VJTq9zq"
   },
   "source": [
    "# 1. Peptide spectrum prediction with MS²PIP\n",
    "\n",
    "## Peptide fragmentation spectra\n",
    "\n",
    "The intact mass of a peptide does not provide sufficient information to identify it in a complex sample. For instance, the peptides `ACDEK` and `EDCAK` share the same amino acid composition and have the exact same mass. As a result, these peptides are indistinguishable based on their intact mass alone (they are isomeric). More information on the peptide is therefore required.\n",
    "\n",
    "Through peptide fragmentation, we can break a peptide into various fragment ions, each representing a part of the peptide sequence. Fragmentation takes place in the collision cell of the mass spectrometer and can be performed by colliding the peptides with an inert gas, such as argon. The resulting fragment ions are then acquired in the MS2 scan, making up the peptide fragmentation spectrum.\n",
    "\n",
    "![LC-MS DDA overview](./images/1.1-lcms-dda-overview.png)\n",
    "\n",
    "_Figure 1.1 Overview of a data-dependent mass spectrometry workflow with peptide fragmentation_"
   ]
  },
  {
   "cell_type": "markdown",
   "metadata": {},
   "source": [
    "Using the Universal Spectrum Identifier<sup>[1]</sup>, we can directoy download spectra from the PRIDE Archive. This spectrum was identified as peptide `VLHPLEGAVVIIFK` with precursor charge 2:"
   ]
  },
  {
   "cell_type": "code",
   "execution_count": 1,
   "metadata": {},
   "outputs": [
    {
     "data": {
      "image/png": "[encoded data removed]",
      "text/plain": [
       "<Figure size 864x432 with 1 Axes>"
      ]
     },
     "metadata": {
      "needs_background": "light"
     },
     "output_type": "display_data"
    }
   ],
   "source": [
    "from scripts.ms2pip_utils import plot_unannotated_usi_spectrum\n",
    "\n",
    "plot_unannotated_usi_spectrum(\n",
    "    \"mzspec:PXD000561:Adult_Frontalcortex_bRP_Elite_85_f09:scan:17555:VLHPLEGAVVIIFK/2\"\n",
    ")"
   ]
  },
  {
   "cell_type": "markdown",
   "metadata": {},
   "source": [
    "**How do we know that this is the spectrum for peptide `VLHPLEGAVVIIFK`?**\n",
    "\n",
    "The most common fragment ion types from the _HCD_ and _CID_ fragmentation techniques are \"b\" and \"y\" ions. Each of these ions are the result of \"breaking\" the peptide in two parts. Depending on the location of the breakage along the peptide backbone, different b- or y-ion will be generated:\n",
    "\n",
    "![image](https://www.bioinfor.com/wp-content/uploads/2016/11/denovo-screenshot.png)\n",
    "\n",
    "_Figure 1.2 Example of peptide fragmentation._\n",
    "\n",
    "As we know the masses of each amino acid, we can simply calculate the mass of each expected b- and y-ion for any given peptide. To calculate the mass of a b-ion, simply sum the masses of all amino acid residues and the mass of a proton; to calculate the mass of a y-ion, sum the masses of all amino acid residues and add the mass of a proton and H<sub>2</sub>O.\n",
    "\n",
    "For example, the masses of the ion b<sub>2</sub> and the ion y<sub>7</sub> for the peptide in Figure 1.2 are:"
   ]
  },
  {
   "cell_type": "code",
   "execution_count": 19,
   "metadata": {},
   "outputs": [
    {
     "name": "stdout",
     "output_type": "stream",
     "text": [
      "b2 = 186.08786503207 Da\n",
      "y2 = 828.5194597157698 Da\n"
     ]
    }
   ],
   "source": [
    "from pyteomics.mass import nist_mass, std_aa_mass, calculate_mass\n",
    "\n",
    "h2o_mass = nist_mass[\"H\"][0][0] * 2 + nist_mass[\"O\"][0][0]\n",
    "proton_mass = nist_mass[\"H\"][0][0]\n",
    "\n",
    "b2_mass = std_aa_mass[\"A\"] + std_aa_mass[\"N\"] + proton_mass\n",
    "y2_mass = sum([std_aa_mass[aa] for aa in \"ELLLNVK\"]) + proton_mass + h2o_mass \n",
    "\n",
    "print(\"b2 =\", b2_mass, \"Da\")\n",
    "print(\"y2 =\", y2_mass, \"Da\")"
   ]
  },
  {
   "cell_type": "markdown",
   "metadata": {},
   "source": [
    "These numbers should match the annotations in Figure 1.2.\n",
    "\n",
    "The Python package `pyteomics`<sup>[2]</sup> contains a function that can calculate the mass of any peptide ion:"
   ]
  },
  {
   "cell_type": "code",
   "execution_count": 20,
   "metadata": {},
   "outputs": [
    {
     "data": {
      "text/plain": [
       "828.51893053796"
      ]
     },
     "execution_count": 20,
     "metadata": {},
     "output_type": "execute_result"
    }
   ],
   "source": [
    "calculate_mass(sequence=\"ELLLNVK\", ion_type=\"y\", charge=1)"
   ]
  },
  {
   "cell_type": "markdown",
   "metadata": {},
   "source": [
    "Using these formulae, we can calculate a full _theoretical fragmentation spectrum_. Such a spectrum shows us where to expect peaks and where not. This information helps us to identify an MS2 spectrum. The theoretical spectrum for our downloaded spectrum from PRIDE Archive would contain the following b-ions:"
   ]
  },
  {
   "cell_type": "code",
   "execution_count": 50,
   "metadata": {},
   "outputs": [
    {
     "name": "stdout",
     "output_type": "stream",
     "text": [
      "b1\t100.08 Da\t V\n",
      "b2\t213.16 Da\t VL\n",
      "b3\t350.22 Da\t VLH\n",
      "b4\t447.27 Da\t VLHP\n",
      "b5\t560.36 Da\t VLHPL\n",
      "b6\t689.40 Da\t VLHPLE\n",
      "b7\t746.42 Da\t VLHPLEG\n",
      "b8\t817.46 Da\t VLHPLEGA\n",
      "b9\t916.53 Da\t VLHPLEGAV\n",
      "b10\t1015.59 Da\t VLHPLEGAVV\n",
      "b11\t1128.68 Da\t VLHPLEGAVVI\n",
      "b12\t1241.76 Da\t VLHPLEGAVVII\n",
      "b13\t1388.83 Da\t VLHPLEGAVVIIF\n"
     ]
    }
   ],
   "source": [
    "peptide = \"VLHPLEGAVVIIFK\"\n",
    "\n",
    "for i, amino_acid in enumerate(peptide[:-1]):\n",
    "    ion_mass = calculate_mass(sequence=peptide[:i+1], ion_type=\"b\", charge=1)    \n",
    "    print(f\"b{i+1}\\t{ion_mass:.2f} Da\\t\", peptide[:i+1])"
   ]
  },
  {
   "cell_type": "markdown",
   "metadata": {},
   "source": [
    "The full theoretical spectrum looks like this:"
   ]
  },
  {
   "cell_type": "code",
   "execution_count": null,
   "metadata": {},
   "outputs": [],
   "source": [
    "ms2pip = SinglePrediction()\n",
    "mz, _, annotations = ms2pip.predict(\"VLHPLEGAVVIIFK\", modifications=\"-\", charge=2)\n",
    "\n",
    "..."
   ]
  },
  {
   "cell_type": "markdown",
   "metadata": {},
   "source": [
    "### References:\n",
    "[1] Deutsch, E. W., Perez-Riverol, Y., Carver, J., Kawano, S. Mendoza, L., van den Bossche, T., Gabriels, R., Binz, P.-A., Pullman, B., Sun, Z., Shofstahl, J., Bittremieux, W., Mak, T. D., Klein, J., Zhu, Y., Lam, H., Vizcaíno, J. A., &#38; Bandeira, N. (2021). Universal Spectrum Identifier for mass spectra. <i>Nature Methods</i>, 1–3. https://doi.org/10.1038/s41592-021-01184-6\n",
    "\n",
    "[2] Levitsky, L. I., Klein, J. A., Ivanov, M. v., &#38; Gorshkov, M. v. (2019). Pyteomics 4.0: Five Years of Development of a Python Proteomics Framework. <i>Journal of Proteome Research</i>, <i>18</i>(2), 709–714. https://doi.org/10.1021/ACS.JPROTEOME.8B00717/"
   ]
  }
 ],
 "metadata": {
  "colab": {
   "authorship_tag": "ABX9TyMEBiYHoyXGWreu/m/G4W5I",
   "include_colab_link": true,
   "name": "Untitled6.ipynb",
   "provenance": []
  },
  "kernelspec": {
   "display_name": "Python 3 (ipykernel)",
   "language": "python",
   "name": "python3"
  },
  "language_info": {
   "codemirror_mode": {
    "name": "ipython",
    "version": 3
   },
   "file_extension": ".py",
   "mimetype": "text/x-python",
   "name": "python",
   "nbconvert_exporter": "python",
   "pygments_lexer": "ipython3",
   "version": "3.7.11"
  }
 },
 "nbformat": 4,
 "nbformat_minor": 4
}
