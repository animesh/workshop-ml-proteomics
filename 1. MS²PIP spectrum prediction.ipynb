{
 "cells": [
  {
   "cell_type": "markdown",
   "metadata": {},
   "source": [
    "First, run these code cells:"
   ]
  },
  {
   "cell_type": "code",
   "execution_count": null,
   "metadata": {},
   "outputs": [],
   "source": [
    "! pip install -qr requirements.txt"
   ]
  },
  {
   "cell_type": "code",
   "execution_count": null,
   "metadata": {},
   "outputs": [],
   "source": [
    "import numpy as np\n",
    "from scipy.stats import pearsonr\n",
    "import matplotlib.pyplot as plt\n",
    "import spectrum_utils.spectrum as sus\n",
    "import spectrum_utils.plot as sup\n",
    "\n",
    "from scripts.ms2pip_utils import get_usi_spectrum, get_theoretical_spectrum, get_predicted_spectrum, get_intensity_array"
   ]
  },
  {
   "cell_type": "markdown",
   "metadata": {
    "id": "VNcI3VJTq9zq"
   },
   "source": [
    "# 1 Peptide spectrum prediction with MS²PIP\n",
    "\n",
    "## 1.1 Observed and theoretical peptide fragmentation spectra\n",
    "\n",
    "The intact mass of a peptide does not provide sufficient information to identify it in a complex sample. For instance, the peptides `ACDEK` and `EDCAK` share the same amino acid composition and have the exact same mass. As a result, these peptides are indistinguishable based on their intact mass alone (they are isomeric). More information on the peptide is therefore required.\n",
    "\n",
    "Through peptide fragmentation, we can break a peptide into various fragment ions, each representing a part of the peptide sequence. Fragmentation takes place in the collision cell of the mass spectrometer and can be performed by colliding the peptides with an inert gas, such as argon. The resulting fragment ions are then acquired in the MS2 scan, making up the peptide fragmentation spectrum.\n",
    "\n",
    "![LC-MS DDA overview](./images/1.1-lcms-dda-overview.png)\n",
    "\n",
    "_Figure 1.1 Overview of a data-dependent mass spectrometry workflow with peptide fragmentation._\n",
    "\n",
    "Using the Universal Spectrum Identifier<sup>[1]</sup>, we can directly download spectra from the PRIDE Archive. This spectrum was identified as peptide `VLHPLEGAVVIIFK` with precursor charge 2:"
   ]
  },
  {
   "cell_type": "code",
   "execution_count": null,
   "metadata": {},
   "outputs": [],
   "source": [
    "usi = \"mzspec:PXD000561:Adult_Frontalcortex_bRP_Elite_85_f09:scan:17555:VLHPLEGAVVIIFK/2\"\n",
    "observed_spectrum = get_usi_spectrum(usi)\n",
    "\n",
    "plt.figure(figsize=(12,4))\n",
    "plt.title(usi)\n",
    "sup.spectrum(observed_spectrum)\n",
    "plt.show()"
   ]
  },
  {
   "cell_type": "markdown",
   "metadata": {},
   "source": [
    "**How do we know that this is the spectrum for peptide `VLHPLEGAVVIIFK`?**\n",
    "\n",
    "The most common fragment ion types from the _HCD_ and _CID_ fragmentation techniques are \"b\" and \"y\" ions. Each of these ions are the result of \"breaking\" the peptide in two parts. Depending on the location of the breakage along the peptide backbone, different b- or y-ion will be generated:\n",
    "\n",
    "![image](https://www.bioinfor.com/wp-content/uploads/2016/11/denovo-screenshot.png)\n",
    "\n",
    "_Figure 1.2 Example of peptide fragmentation._\n",
    "\n",
    "As we know the masses of each amino acid, we can simply calculate the mass of each expected b- and y-ion for any given peptide:\n",
    "- b-ions: Sum the masses of all amino acid residues and the mass of a proton\n",
    "- y-ions: Sum the masses of all amino acid residues and add the mass of a proton and H<sub>2</sub>O.\n",
    "\n",
    "We can fetch atomic masses from a list of the National Institute of Standards and Technology (NIST). For instance, `nist_mass[\"H\"]` shows us the mass of hydrogen:"
   ]
  },
  {
   "cell_type": "code",
   "execution_count": null,
   "metadata": {},
   "outputs": [],
   "source": [
    "from pyteomics.mass import nist_mass\n",
    "\n",
    "nist_mass[\"H\"]"
   ]
  },
  {
   "cell_type": "markdown",
   "metadata": {},
   "source": [
    "_Question 1.1: Why are there multiple masses listed for hydrogen? What are the numbers between one and zero next to each mass value? Which mass value should we use in the context of mass spectrometry?_"
   ]
  },
  {
   "cell_type": "markdown",
   "metadata": {},
   "source": [
    "The masses of the ion b<sub>2</sub> and the ion y<sub>7</sub> for the peptide in Figure 1.2 can be calculated as follows:"
   ]
  },
  {
   "cell_type": "code",
   "execution_count": null,
   "metadata": {},
   "outputs": [],
   "source": [
    "from pyteomics.mass import nist_mass, std_aa_mass, calculate_mass\n",
    "\n",
    "hydrogen = nist_mass[\"H\"][0][0]\n",
    "oxygen = nist_mass[\"O\"][0][0]\n",
    "\n",
    "h2o = hydrogen * 2 + oxygen\n",
    "proton = hydrogen\n",
    "\n",
    "b2_mass = std_aa_mass[\"A\"] + std_aa_mass[\"N\"] + proton\n",
    "y2_mass = sum([std_aa_mass[aa] for aa in \"ELLLNVK\"]) + proton + h2o\n",
    "\n",
    "print(\"b2 =\", b2_mass, \"Da\")\n",
    "print(\"y7 =\", y2_mass, \"Da\")"
   ]
  },
  {
   "cell_type": "markdown",
   "metadata": {},
   "source": [
    "These numbers should match the annotations in Figure 1.2.\n",
    "\n",
    "The Python package [`pyteomics`](https://pyteomics.readthedocs.io/)<sup>[2]</sup> contains a function that can calculate the mass of any peptide ion:"
   ]
  },
  {
   "cell_type": "code",
   "execution_count": null,
   "metadata": {},
   "outputs": [],
   "source": [
    "calculate_mass(sequence=\"ELLLNVK\", ion_type=\"y\", charge=1)"
   ]
  },
  {
   "cell_type": "markdown",
   "metadata": {},
   "source": [
    "Using these formulae, we can calculate a full _theoretical fragmentation spectrum_. Such a spectrum shows us where to expect peaks and where not. This information helps us to identify an MS2 spectrum. The theoretical spectrum for our downloaded spectrum from PRIDE Archive would contain the following b-ions:"
   ]
  },
  {
   "cell_type": "code",
   "execution_count": null,
   "metadata": {},
   "outputs": [],
   "source": [
    "peptide = \"VLHPLEGAVVIIFK\"\n",
    "\n",
    "for i, amino_acid in enumerate(peptide[:-1]):\n",
    "    ion_mass = calculate_mass(sequence=peptide[:i+1], ion_type=\"b\", charge=1)    \n",
    "    print(f\"b{i+1}\\t{ion_mass:.2f} Da\\t\", peptide[:i+1])"
   ]
  },
  {
   "cell_type": "markdown",
   "metadata": {},
   "source": [
    "The full theoretical spectrum looks like this:"
   ]
  },
  {
   "cell_type": "code",
   "execution_count": null,
   "metadata": {},
   "outputs": [],
   "source": [
    "theoretical_spectrum = get_theoretical_spectrum(\"VLHPLEGAVVIIFK\", modifications=\"-\", charge=2)\n",
    "\n",
    "plt.figure(figsize=(12,4))\n",
    "sup.spectrum(theoretical_spectrum)\n",
    "plt.show()"
   ]
  },
  {
   "cell_type": "markdown",
   "metadata": {},
   "source": [
    "_Question 1.2: Run the code cell below. Often, a theoretical spectrum is instead visualized like the one below, why would that be?_"
   ]
  },
  {
   "cell_type": "code",
   "execution_count": null,
   "metadata": {},
   "outputs": [],
   "source": [
    "theoretical_spectrum = get_theoretical_spectrum(\"VLHPLEGAVVIIFK\", modifications=\"-\", charge=2, b_ion_weight=0.5)\n",
    "\n",
    "plt.figure(figsize=(12,4))\n",
    "sup.spectrum(theoretical_spectrum)\n",
    "plt.show()"
   ]
  },
  {
   "cell_type": "markdown",
   "metadata": {},
   "source": [
    "By matching an observed spectrum - such as the one downloaded before - with a theoretical spectrum, we can assess the probability that the peptide-to-spectrum match (PSM) is correct:"
   ]
  },
  {
   "cell_type": "code",
   "execution_count": null,
   "metadata": {},
   "outputs": [],
   "source": [
    "plt.figure(figsize=(12,6))\n",
    "sup.mirror(observed_spectrum, theoretical_spectrum)\n",
    "plt.show()"
   ]
  },
  {
   "cell_type": "markdown",
   "metadata": {},
   "source": [
    "We can also annotate the observed spectrum accordingly:"
   ]
  },
  {
   "cell_type": "code",
   "execution_count": null,
   "metadata": {},
   "outputs": [],
   "source": [
    "observed_spectrum.annotate_peptide_fragments(0.02, \"Da\")\n",
    "\n",
    "plt.figure(figsize=(12,6))\n",
    "sup.mirror(observed_spectrum, theoretical_spectrum)\n",
    "plt.show()"
   ]
  },
  {
   "cell_type": "markdown",
   "metadata": {},
   "source": [
    "_Question 1.3: In the above code, what would the `0.02 Da` mean? Why is this important?_\n",
    "\n",
    "How well do the spectra match? Are all peaks matched? Are all peaks as intense as you would expect?\n",
    "\n",
    "_Question 1.4: None of the theoretical ions with an m/z higher than 1200 Da can be matched. Why would that be?_\n",
    "\n",
    "\n",
    "## 1.2 Predicted peptide fragmentation spectra\n",
    "\n",
    "As you probably noticed, while we can simply calculate the fragment ion _m/z_ values for any given peptide, the resulting theoretical spectrum does not really resemble an observed spectrum. Many peaks are not as intense, many others are not present at all. Unfortunately, we cannot simply calculate the expected intensity of fragment ion peaks. This is where more complex models are required; models that can be learned from thousands or millions of observed fragmentation spectra with machine learning (ML).\n",
    "\n",
    "MS²PIP<sup>[3]</sup> employs the XGBoost library, which is an advanced ML algorithm based decision trees. For each input - a peptide amino acid sequence - MS²PIP calculates meaningful features for the peptide and each fragment ion, derived from amino acid properties such as basicity, hydrophobicity, and isoelectric point. These features are then passed to the XGBoost algorithm, either to train new intensity prediction models, or to use existing models to make predictions. The output from MS²PIP is then a predicted spectrum with intensities that approximate true, observed fragmentation spectra:"
   ]
  },
  {
   "cell_type": "code",
   "execution_count": null,
   "metadata": {},
   "outputs": [],
   "source": [
    "predicted_spectrum = get_predicted_spectrum(\"VLHPLEGAVVIIFK\", modifications=\"-\", charge=2)\n",
    "\n",
    "plt.figure(figsize=(12,4))\n",
    "sup.spectrum(predicted_spectrum)\n",
    "plt.show()"
   ]
  },
  {
   "cell_type": "markdown",
   "metadata": {},
   "source": [
    "Let's compare it to the observed spectrum:"
   ]
  },
  {
   "cell_type": "code",
   "execution_count": null,
   "metadata": {},
   "outputs": [],
   "source": [
    "plt.figure(figsize=(12,6))\n",
    "sup.mirror(observed_spectrum, predicted_spectrum)\n",
    "plt.show()"
   ]
  },
  {
   "cell_type": "markdown",
   "metadata": {},
   "source": [
    "MS²PIP correctly predicted the b<sub>3</sub> ion to be the most intense, followed by the y<sub>11</sub>, y<sub>2</sub> and then y<sub>1</sub>. In this case, it did miss the more intense b<sub>8-11</sub> ions. Nevertheless, it is a much closer resemblance to the observed spectrum. The brilliant aspect of spectrum prediction, is that you can run it for ANY peptide, even peptides that have not been observed before. If you don't have any non-amino acid characters (B, J, O, U, X, or Z)  in your name, fill it in below, and let's see what your peptide looks like!"
   ]
  },
  {
   "cell_type": "code",
   "execution_count": null,
   "metadata": {},
   "outputs": [],
   "source": [
    "your_name = \"LENNARTMARTENS\"  # <-- Fill in your name here\n",
    "charge = 2                    # <-- Try different precursor charge states (positive values, e.g. between 2 and 6)\n",
    "\n",
    "predicted_spectrum = get_predicted_spectrum(your_name, modifications=\"-\", charge=charge)\n",
    "\n",
    "plt.figure(figsize=(12,4))\n",
    "plt.title(your_name + \"/\" + str(charge))\n",
    "sup.spectrum(predicted_spectrum)\n",
    "plt.show()"
   ]
  },
  {
   "cell_type": "markdown",
   "metadata": {},
   "source": [
    "You can also try spectra for different charge states. Change the `charge` variable in the previous code cell, and rerun.\n",
    "\n",
    "Note that depending on the amino acid composition of the peptide, some higher charge states will be very unlikely to occur. Still, MS²PIP will attempt to predict what the spectrum would like like in such a case, however unlikely it is to exist."
   ]
  },
  {
   "cell_type": "code",
   "execution_count": null,
   "metadata": {},
   "outputs": [],
   "source": [
    "top_spectrum = get_predicted_spectrum(\"LENNARTMARTENS\", modifications=\"-\", charge=2)\n",
    "bottom_spectrum = get_predicted_spectrum(\"LENNARTMARTENS\", modifications=\"-\", charge=3)\n",
    "\n",
    "plt.figure(figsize=(12,4))\n",
    "plt.title(your_name + \" charge 2 vs. 3\")\n",
    "sup.mirror(top_spectrum, bottom_spectrum)\n",
    "plt.show()"
   ]
  },
  {
   "cell_type": "markdown",
   "metadata": {},
   "source": [
    "_Question 1.5 Interestingly, while the precursor charge state does not influence the location of the fragment ion peaks, it has a large influence on the fragment intensities. Why would that be?_\n",
    "\n",
    "## 1.3 Considering peptide modification mass shifts\n",
    "\n",
    "One of the options for MS²PIP is `modifications`. As all post-translational and artefactual peptide modifications introduce a mass shift to all fragment ions that carry the modification, MS²PIP needs to know the presense of any modifications on the peptide. This includes both \"variable\" and \"fixed\" modifications, regardless of how they were set in the search engine. \n",
    "\n",
    "To consider peptide modifications, MS²PIP first needs a record of modification names, the amino acids they occur on, and the corresponding mass shift that is introduced:"
   ]
  },
  {
   "cell_type": "code",
   "execution_count": null,
   "metadata": {},
   "outputs": [],
   "source": [
    "from ms2pip.single_prediction import SinglePrediction\n",
    "\n",
    "ms2pip = SinglePrediction(\n",
    "    modification_strings=[\n",
    "        \"Oxidation,15.994915,opt,M\",\n",
    "        \"Carbamidomethyl,57.021464,opt,C\",\n",
    "        \"PhosphoS,79.966331,opt,S\",\n",
    "        \"PhosphoT,79.966331,opt,T\",\n",
    "        \"PhosphoY,79.966331,opt,Y\",\n",
    "        \"iTRAQK,144.102063,opt,K\",\n",
    "        \"iTRAQN,144.102063,opt,N-term\",\n",
    "    ]\n",
    ")"
   ]
  },
  {
   "cell_type": "markdown",
   "metadata": {},
   "source": [
    "For modifications that occur on multiple amino acids - such as phosphorylation and iTRAQ - MS²PIP requires an individual entry for each site and each name should be unique.\n",
    "\n",
    "_Question 1.6: Note that the last modification entry `N-term` is listed instead of an amino acid. Why is that? What is the difference between a modification on the first amino acid versus a modification on the N-terminus?_\n",
    "\n",
    "Next, MS²PIP needs to know for each peptide the location of all modifications. For this, we start counting amino acid residues from 1. The numbers `0` and `-1` are reserved for the N-terminus and the C-terminus, respectively. For example:\n",
    "\n",
    "- `A C[Carbamidomethyl] D M K` = 2 Carbamidomethyl\n",
    "- `A C[Carbamidomethyl] D M[Oxidation] K` = 2 Carbamidomethyl, 4 Oxidation\n",
    "- `[Acetyl] A C[Carbamidomethyl] D M[Oxidation] K` = 0 Acetyl 2 Carbamidomethyl, 4 Oxidation\n",
    "\n",
    "All modification names and locations are then merged with a \"pipe\" sign (`|`):\n",
    "\n",
    "- `A C[Carbamidomethyl] D M K` = `2|Carbamidomethyl`\n",
    "- `A C[Carbamidomethyl] D M[Oxidation] K` = `2|Carbamidomethyl|4|Oxidation`\n",
    "- `[Acetyl] A C[Carbamidomethyl] D M[Oxidation] K` = `0|Acetyl|2|Carbamidomethyl|4|Oxidation`\n",
    "\n",
    "A peptide without modifications should have the listing `-`.\n",
    "\n",
    "\n",
    "Then we can run, for instance:"
   ]
  },
  {
   "cell_type": "code",
   "execution_count": null,
   "metadata": {},
   "outputs": [],
   "source": [
    "top_spectrum = get_predicted_spectrum(\"LENNARTMARTENS\", modifications=\"-\", charge=2, ms2pip_instance=ms2pip)\n",
    "bottom_spectrum = get_predicted_spectrum(\"LENNARTMARTENS\", modifications=\"8|Oxidation\", charge=2, ms2pip_instance=ms2pip)\n",
    "\n",
    "plt.figure(figsize=(12,4))\n",
    "plt.title(\"LENNARTMARTENS\" + \" unmodified vs. modified\")\n",
    "sup.mirror(top_spectrum, bottom_spectrum)\n",
    "plt.show()"
   ]
  },
  {
   "cell_type": "markdown",
   "metadata": {},
   "source": [
    "_Question 1.7: Which ions carry the modification? How much are they shifted?_\n",
    "\n",
    "\n",
    "## 1.4 Considering factors that influence the fragmentation pattern\n",
    "\n",
    "Before, you saw how the precursor charge changes the resulting fragmentation pattern, and how MS²PIP takes this into account. There are more factors that influence peptide fragmentation patterns, and MS²PIP provides specialized models for the most prevalent ones:\n",
    "\n",
    "- Other fragmentation methods: trap-type CID (ion trap)\n",
    "- Other instruments: Quadrupole Time-of-Flight (Sciex TripleTOF)\n",
    "- Quantification labels: TMT or iTRAQ\n",
    "- Special peptide properties: Alternative digest or immunopeptides\n",
    "\n",
    "Let's start with quantification labels as an example. TMT and iTRAQ provide an ingenious method to label peptides from different samples (e.g. treatment and control), pool the samples together, identify all samples in a single run, and finally quantify peptides from each sample separately through peptide fragmentation. This can be achieved with the use of cleavable reporter ions. Each sample is labeled with a specific tag molecule with a distinct reporter ion mass. Thanks to a balance group on the whole label, the mass of the intact label is identical across samples. The result is that the peptides from each sample will group together in both MS1 and MS2 spectra, but after fragmentation, the reporter ions can be observed at distinct masses in the MS2 spectrum.\n",
    "\n",
    "\n",
    "![tmt figure](https://miro.medium.com/max/1111/1*Y4yQI2eKoeR6aVDF6wJCkA.jpeg)"
   ]
  },
  {
   "cell_type": "markdown",
   "metadata": {},
   "source": [
    "To predict peptides with iTRAQ labels, we need to specify two things:\n",
    "- We want to use the specialized iTRAQ model, to accomodate for the altered fragmentation intensities\n",
    "- We need to specify the modifications, to accomodate for the mass shifts"
   ]
  },
  {
   "cell_type": "code",
   "execution_count": null,
   "metadata": {},
   "outputs": [],
   "source": [
    "# Setup MS²PIP instance with modification info\n",
    "ms2pip = SinglePrediction(\n",
    "    modification_strings=[\n",
    "        \"Oxidation,15.994915,opt,M\",\n",
    "        \"iTRAQK,144.102063,opt,K\",\n",
    "        \"iTRAQN,144.102063,opt,N-term\",\n",
    "    ]\n",
    ")\n",
    "\n",
    "# Predict the peptide spectrum\n",
    "top_spectrum = get_predicted_spectrum(\"EENGVLVLNDANFDNFVADK\", modifications=\"-\", charge=2, model=\"HCD2021\", ms2pip_instance=ms2pip)  # No TMT label\n",
    "bottom_spectrum = get_predicted_spectrum(\"EENGVLVLNDANFDNFVADK\", modifications=\"-1|iTRAQN\", charge=2, model=\"iTRAQ\", ms2pip_instance=ms2pip)  # With TMT label\n",
    "\n",
    "# Plot\n",
    "plt.figure(figsize=(12,4))\n",
    "sup.mirror(top_spectrum, bottom_spectrum)\n",
    "plt.show()"
   ]
  },
  {
   "cell_type": "markdown",
   "metadata": {},
   "source": [
    "On top, you can see the predicted spectrum for the unmodified version, mirrored on the bottom the iTRAQ-labeled peptide.\n",
    "\n",
    "_Question 1.8: Note that TMT drastically changes the fragmentation pattern. Which general trends can you see?_\n",
    "\n",
    "\n",
    "## 1.5 Comparing predictions with observations\n",
    "\n",
    "To use spectrum predictions to improve peptide identification, we need to be able to compare predictions to observations. Simply put, for each set of observed spectrum and predicted spectrum, we need a number that reflect how similar both spectra are. This is not straightforward, as many factors influence the performance of such a _metric_. For MS²PIP, we usually calculate the Pearson correlation of total ion current normalized, log2-transformed spectra for all b- and y-ions. Normalizing to the total ion current simply means dividing all peak intensities by the sum of all intensity in the spectrum. The sum of all peak intensities in the spectrum is then 1. Logarithmic tranformation helps to de-emphasize the effect of the few high intensity peaks on the correlation metric and increases the influence of the many low intensity peaks. In our experience, this results in a more accurate Pearson correlation. As MS²PIP only predicts b- and y-ions, we only compare observed b- and y-ions with the predictions. If peaks are absent in the observed spectrum, we assume they are zero.\n",
    "\n",
    "Let's compare predictions of the normal model and the iTRAQ model with an observed iTRAQ spectrum. Again, using the USI, we can download an observed iTRAQ-labeled spectrum:"
   ]
  },
  {
   "cell_type": "code",
   "execution_count": null,
   "metadata": {},
   "outputs": [],
   "source": [
    "usi = \"mzspec:PXD000966:CPTAC_CompRef_00_iTRAQ_05_2Feb12_Cougar_11-10-09.mzML:scan:12298:[iTRAQ4plex]-LHFFM[Oxidation]PGFAPLTSR/3\"\n",
    "observed_spectrum = get_usi_spectrum(usi, modifications={0:144.102063, 4:15.994915})\n",
    "observed_spectrum.annotate_peptide_fragments(0.02, \"Da\", \"by\")\n",
    "\n",
    "plt.figure(figsize=(12,4))\n",
    "plt.title(usi)\n",
    "sup.spectrum(observed_spectrum)\n",
    "plt.show()"
   ]
  },
  {
   "cell_type": "markdown",
   "metadata": {},
   "source": [
    "As an aside, if we zoom in on the 110-120 m/z range of the spectrum, we see four peaks at equidistant masses:"
   ]
  },
  {
   "cell_type": "code",
   "execution_count": null,
   "metadata": {},
   "outputs": [],
   "source": [
    "observed_spectrum.set_mz_range(min_mz=110, max_mz=120)\n",
    "\n",
    "plt.figure(figsize=(12,4))\n",
    "plt.title(usi)\n",
    "sup.spectrum(observed_spectrum)\n",
    "plt.xlim(110,120)\n",
    "plt.show()"
   ]
  },
  {
   "cell_type": "markdown",
   "metadata": {},
   "source": [
    "_Question 1.10: What are these four peaks?_"
   ]
  },
  {
   "cell_type": "markdown",
   "metadata": {},
   "source": [
    "Ok, let's predict the spectra and compare them to the observed one. Each time, the observed iTRAQ spectrum will be on top, with the prediction WITH or WITHOUTH iTRAQ label mirrored on the bottom:"
   ]
  },
  {
   "cell_type": "code",
   "execution_count": null,
   "metadata": {},
   "outputs": [],
   "source": [
    "# Observed spectrum\n",
    "usi = \"mzspec:PXD000966:CPTAC_CompRef_00_iTRAQ_05_2Feb12_Cougar_11-10-09.mzML:scan:12298:[iTRAQ4plex]-LHFFM[Oxidation]PGFAPLTSR/3\"\n",
    "observed_spectrum = get_usi_spectrum(usi, modifications={0:144.102063, 4:15.994915})\n",
    "observed_spectrum.annotate_peptide_fragments(0.02, \"Da\", \"by\", max_ion_charge=1)\n",
    "\n",
    "# Predict the peptide spectrum\n",
    "itraq_spectrum = get_predicted_spectrum(\"LHFFMPGFAPLTSR\", modifications=\"0|iTRAQN|5|Oxidation\", charge=3, model=\"iTRAQ\", ms2pip_instance=ms2pip)  # With iTRAQ label\n",
    "itraq_spectrum.set_mz_range(max_mz=950)\n",
    "\n",
    "# Plot\n",
    "plt.figure(figsize=(12,4))\n",
    "sup.mirror(observed_spectrum, itraq_spectrum)\n",
    "plt.show()"
   ]
  },
  {
   "cell_type": "code",
   "execution_count": null,
   "metadata": {},
   "outputs": [],
   "source": [
    "hcd_spectrum = get_predicted_spectrum(\"LHFFMPGFAPLTSR\", modifications=\"5|Oxidation\", charge=3, model=\"HCD2021\", ms2pip_instance=ms2pip)  # No iTRAQ label\n",
    "hcd_spectrum.set_mz_range(max_mz=950)\n",
    "\n",
    "# Plot\n",
    "plt.figure(figsize=(12,4))\n",
    "sup.mirror(observed_spectrum, hcd_spectrum)\n",
    "plt.show()"
   ]
  },
  {
   "cell_type": "markdown",
   "metadata": {},
   "source": [
    "While there are so unannotated (black) peaks in the observed spectrum that compress the annotated peaks, the iTRAQ predictions match a lot better. Let's calculate the Pearson correlation for both comparisons:"
   ]
  },
  {
   "cell_type": "code",
   "execution_count": null,
   "metadata": {},
   "outputs": [],
   "source": [
    "def get_processed_intensities(spectrum):\n",
    "    annotated_intensities = get_intensity_array(spectrum).flatten()\n",
    "    annotated_intensities = annotated_intensities / sum(annotated_intensities)\n",
    "    annotated_intensities = np.log2(annotated_intensities + 0.001)\n",
    "    return annotated_intensities"
   ]
  },
  {
   "cell_type": "code",
   "execution_count": null,
   "metadata": {},
   "outputs": [],
   "source": [
    "intensities_predicted_hcd = get_processed_intensities(hcd_spectrum)\n",
    "intensities_predicted_itraq = get_processed_intensities(itraq_spectrum)\n",
    "\n",
    "observed_spectrum.annotate_peptide_fragments(0.02, \"Da\", \"by\", max_ion_charge=1)\n",
    "intensities_observed = get_processed_intensities(observed_spectrum).flatten()"
   ]
  },
  {
   "cell_type": "markdown",
   "metadata": {},
   "source": [
    "Prediction without iTRAQ:"
   ]
  },
  {
   "cell_type": "code",
   "execution_count": null,
   "metadata": {},
   "outputs": [],
   "source": [
    "pearsonr(intensities_predicted_hcd, intensities_observed)[0]"
   ]
  },
  {
   "cell_type": "markdown",
   "metadata": {},
   "source": [
    "Prediction with iTRAQ:"
   ]
  },
  {
   "cell_type": "code",
   "execution_count": null,
   "metadata": {},
   "outputs": [],
   "source": [
    "pearsonr(intensities_predicted_itraq, intensities_observed)[0]"
   ]
  },
  {
   "cell_type": "markdown",
   "metadata": {},
   "source": [
    "_Question 1.11: If everything went well, you can see that the Pearson correlation for the prediction with the specialized iTRAQ model is higher. This indicates that having a specialized model helps to get more accurate spectrum predictions. However, we can also turn this reasoning around: Given these two Pearson correlations, what does this tell us about the two \"peptide identifications\" (peptide with vs. without iTRAQ label)?_\n",
    "\n",
    "## Extra: Using MS²PIP web server\n",
    "Here we used MS²PIP locally with the Python API. However, you can also run MS²PIP for a large batch of peptides online, without any installation needs. Go to [iomics.ugent.be/ms2pip](https://iomics.ugent.be/ms2pip) and try it out! The documentation on the website should help you out."
   ]
  },
  {
   "cell_type": "markdown",
   "metadata": {},
   "source": [
    "### References:\n",
    "[1] Deutsch, E. W., Perez-Riverol, Y., Carver, J., Kawano, S. Mendoza, L., van den Bossche, T., Gabriels, R., Binz, P.-A., Pullman, B., Sun, Z., Shofstahl, J., Bittremieux, W., Mak, T. D., Klein, J., Zhu, Y., Lam, H., Vizcaíno, J. A., &#38; Bandeira, N. (2021). Universal Spectrum Identifier for mass spectra. <i>Nature Methods</i>, 1–3. https://doi.org/10.1038/s41592-021-01184-6\n",
    "\n",
    "[2] Levitsky, L. I., Klein, J. A., Ivanov, M. v., &#38; Gorshkov, M. v. (2019). Pyteomics 4.0: Five Years of Development of a Python Proteomics Framework. <i>Journal of Proteome Research</i>, <i>18</i>(2), 709–714. https://doi.org/10.1021/ACS.JPROTEOME.8B00717/\n",
    "\n",
    "[3] Gabriels, R., Martens, L., &#38; Degroeve, S. (2019). Updated MS<sup>2</sup>PIP web server delivers fast and accurate MS<sup>2</sup> peak intensity prediction for multiple fragmentation methods, instruments and labeling techniques. <i>Nucleic Acids Research</i>, <i>47</i>(W1), W295--W299. https://doi.org/10.1093/nar/gkz299"
   ]
  }
 ],
 "metadata": {
  "colab": {
   "authorship_tag": "ABX9TyMEBiYHoyXGWreu/m/G4W5I",
   "include_colab_link": true,
   "name": "Untitled6.ipynb",
   "provenance": []
  },
  "kernelspec": {
   "display_name": "Python 3 (ipykernel)",
   "language": "python",
   "name": "python3"
  },
  "language_info": {
   "codemirror_mode": {
    "name": "ipython",
    "version": 3
   },
   "file_extension": ".py",
   "mimetype": "text/x-python",
   "name": "python",
   "nbconvert_exporter": "python",
   "pygments_lexer": "ipython3",
   "version": "3.8.12"
  }
 },
 "nbformat": 4,
 "nbformat_minor": 4
}
